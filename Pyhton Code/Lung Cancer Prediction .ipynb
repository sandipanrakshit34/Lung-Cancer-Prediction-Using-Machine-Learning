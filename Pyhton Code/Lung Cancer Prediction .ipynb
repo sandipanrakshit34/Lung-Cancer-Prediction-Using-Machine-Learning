{
 "cells": [
  {
   "cell_type": "code",
   "execution_count": 1,
   "id": "0e3c2722",
   "metadata": {},
   "outputs": [],
   "source": [
    "import pandas as pd\n",
    "import matplotlib. pyplot as plt\n",
    "import seaborn as sns\n",
    "from sklearn.model_selection import train_test_split\n",
    "from sklearn.linear_model import LogisticRegression"
   ]
  },
  {
   "cell_type": "code",
   "execution_count": 2,
   "id": "2377dd1f",
   "metadata": {},
   "outputs": [],
   "source": [
    "lung_data = pd.read_csv(\"survey lung cancer.csv\")"
   ]
  },
  {
   "cell_type": "code",
   "execution_count": 3,
   "id": "f3a5d227",
   "metadata": {},
   "outputs": [
    {
     "data": {
      "text/html": [
       "<div>\n",
       "<style scoped>\n",
       "    .dataframe tbody tr th:only-of-type {\n",
       "        vertical-align: middle;\n",
       "    }\n",
       "\n",
       "    .dataframe tbody tr th {\n",
       "        vertical-align: top;\n",
       "    }\n",
       "\n",
       "    .dataframe thead th {\n",
       "        text-align: right;\n",
       "    }\n",
       "</style>\n",
       "<table border=\"1\" class=\"dataframe\">\n",
       "  <thead>\n",
       "    <tr style=\"text-align: right;\">\n",
       "      <th></th>\n",
       "      <th>GENDER</th>\n",
       "      <th>AGE</th>\n",
       "      <th>SMOKING</th>\n",
       "      <th>YELLOW_FINGERS</th>\n",
       "      <th>ANXIETY</th>\n",
       "      <th>PEER_PRESSURE</th>\n",
       "      <th>CHRONIC DISEASE</th>\n",
       "      <th>FATIGUE</th>\n",
       "      <th>ALLERGY</th>\n",
       "      <th>WHEEZING</th>\n",
       "      <th>ALCOHOL CONSUMING</th>\n",
       "      <th>COUGHING</th>\n",
       "      <th>SHORTNESS OF BREATH</th>\n",
       "      <th>SWALLOWING DIFFICULTY</th>\n",
       "      <th>CHEST PAIN</th>\n",
       "      <th>LUNG_CANCER</th>\n",
       "    </tr>\n",
       "  </thead>\n",
       "  <tbody>\n",
       "    <tr>\n",
       "      <th>0</th>\n",
       "      <td>M</td>\n",
       "      <td>69</td>\n",
       "      <td>1</td>\n",
       "      <td>2</td>\n",
       "      <td>2</td>\n",
       "      <td>1</td>\n",
       "      <td>1</td>\n",
       "      <td>2</td>\n",
       "      <td>1</td>\n",
       "      <td>2</td>\n",
       "      <td>2</td>\n",
       "      <td>2</td>\n",
       "      <td>2</td>\n",
       "      <td>2</td>\n",
       "      <td>2</td>\n",
       "      <td>YES</td>\n",
       "    </tr>\n",
       "    <tr>\n",
       "      <th>1</th>\n",
       "      <td>M</td>\n",
       "      <td>74</td>\n",
       "      <td>2</td>\n",
       "      <td>1</td>\n",
       "      <td>1</td>\n",
       "      <td>1</td>\n",
       "      <td>2</td>\n",
       "      <td>2</td>\n",
       "      <td>2</td>\n",
       "      <td>1</td>\n",
       "      <td>1</td>\n",
       "      <td>1</td>\n",
       "      <td>2</td>\n",
       "      <td>2</td>\n",
       "      <td>2</td>\n",
       "      <td>YES</td>\n",
       "    </tr>\n",
       "    <tr>\n",
       "      <th>2</th>\n",
       "      <td>F</td>\n",
       "      <td>59</td>\n",
       "      <td>1</td>\n",
       "      <td>1</td>\n",
       "      <td>1</td>\n",
       "      <td>2</td>\n",
       "      <td>1</td>\n",
       "      <td>2</td>\n",
       "      <td>1</td>\n",
       "      <td>2</td>\n",
       "      <td>1</td>\n",
       "      <td>2</td>\n",
       "      <td>2</td>\n",
       "      <td>1</td>\n",
       "      <td>2</td>\n",
       "      <td>NO</td>\n",
       "    </tr>\n",
       "    <tr>\n",
       "      <th>3</th>\n",
       "      <td>M</td>\n",
       "      <td>63</td>\n",
       "      <td>2</td>\n",
       "      <td>2</td>\n",
       "      <td>2</td>\n",
       "      <td>1</td>\n",
       "      <td>1</td>\n",
       "      <td>1</td>\n",
       "      <td>1</td>\n",
       "      <td>1</td>\n",
       "      <td>2</td>\n",
       "      <td>1</td>\n",
       "      <td>1</td>\n",
       "      <td>2</td>\n",
       "      <td>2</td>\n",
       "      <td>NO</td>\n",
       "    </tr>\n",
       "    <tr>\n",
       "      <th>4</th>\n",
       "      <td>F</td>\n",
       "      <td>63</td>\n",
       "      <td>1</td>\n",
       "      <td>2</td>\n",
       "      <td>1</td>\n",
       "      <td>1</td>\n",
       "      <td>1</td>\n",
       "      <td>1</td>\n",
       "      <td>1</td>\n",
       "      <td>2</td>\n",
       "      <td>1</td>\n",
       "      <td>2</td>\n",
       "      <td>2</td>\n",
       "      <td>1</td>\n",
       "      <td>1</td>\n",
       "      <td>NO</td>\n",
       "    </tr>\n",
       "    <tr>\n",
       "      <th>...</th>\n",
       "      <td>...</td>\n",
       "      <td>...</td>\n",
       "      <td>...</td>\n",
       "      <td>...</td>\n",
       "      <td>...</td>\n",
       "      <td>...</td>\n",
       "      <td>...</td>\n",
       "      <td>...</td>\n",
       "      <td>...</td>\n",
       "      <td>...</td>\n",
       "      <td>...</td>\n",
       "      <td>...</td>\n",
       "      <td>...</td>\n",
       "      <td>...</td>\n",
       "      <td>...</td>\n",
       "      <td>...</td>\n",
       "    </tr>\n",
       "    <tr>\n",
       "      <th>304</th>\n",
       "      <td>F</td>\n",
       "      <td>56</td>\n",
       "      <td>1</td>\n",
       "      <td>1</td>\n",
       "      <td>1</td>\n",
       "      <td>2</td>\n",
       "      <td>2</td>\n",
       "      <td>2</td>\n",
       "      <td>1</td>\n",
       "      <td>1</td>\n",
       "      <td>2</td>\n",
       "      <td>2</td>\n",
       "      <td>2</td>\n",
       "      <td>2</td>\n",
       "      <td>1</td>\n",
       "      <td>YES</td>\n",
       "    </tr>\n",
       "    <tr>\n",
       "      <th>305</th>\n",
       "      <td>M</td>\n",
       "      <td>70</td>\n",
       "      <td>2</td>\n",
       "      <td>1</td>\n",
       "      <td>1</td>\n",
       "      <td>1</td>\n",
       "      <td>1</td>\n",
       "      <td>2</td>\n",
       "      <td>2</td>\n",
       "      <td>2</td>\n",
       "      <td>2</td>\n",
       "      <td>2</td>\n",
       "      <td>2</td>\n",
       "      <td>1</td>\n",
       "      <td>2</td>\n",
       "      <td>YES</td>\n",
       "    </tr>\n",
       "    <tr>\n",
       "      <th>306</th>\n",
       "      <td>M</td>\n",
       "      <td>58</td>\n",
       "      <td>2</td>\n",
       "      <td>1</td>\n",
       "      <td>1</td>\n",
       "      <td>1</td>\n",
       "      <td>1</td>\n",
       "      <td>1</td>\n",
       "      <td>2</td>\n",
       "      <td>2</td>\n",
       "      <td>2</td>\n",
       "      <td>2</td>\n",
       "      <td>1</td>\n",
       "      <td>1</td>\n",
       "      <td>2</td>\n",
       "      <td>YES</td>\n",
       "    </tr>\n",
       "    <tr>\n",
       "      <th>307</th>\n",
       "      <td>M</td>\n",
       "      <td>67</td>\n",
       "      <td>2</td>\n",
       "      <td>1</td>\n",
       "      <td>2</td>\n",
       "      <td>1</td>\n",
       "      <td>1</td>\n",
       "      <td>2</td>\n",
       "      <td>2</td>\n",
       "      <td>1</td>\n",
       "      <td>2</td>\n",
       "      <td>2</td>\n",
       "      <td>2</td>\n",
       "      <td>1</td>\n",
       "      <td>2</td>\n",
       "      <td>YES</td>\n",
       "    </tr>\n",
       "    <tr>\n",
       "      <th>308</th>\n",
       "      <td>M</td>\n",
       "      <td>62</td>\n",
       "      <td>1</td>\n",
       "      <td>1</td>\n",
       "      <td>1</td>\n",
       "      <td>2</td>\n",
       "      <td>1</td>\n",
       "      <td>2</td>\n",
       "      <td>2</td>\n",
       "      <td>2</td>\n",
       "      <td>2</td>\n",
       "      <td>1</td>\n",
       "      <td>1</td>\n",
       "      <td>2</td>\n",
       "      <td>1</td>\n",
       "      <td>YES</td>\n",
       "    </tr>\n",
       "  </tbody>\n",
       "</table>\n",
       "<p>309 rows × 16 columns</p>\n",
       "</div>"
      ],
      "text/plain": [
       "    GENDER  AGE  SMOKING  YELLOW_FINGERS  ANXIETY  PEER_PRESSURE  \\\n",
       "0        M   69        1               2        2              1   \n",
       "1        M   74        2               1        1              1   \n",
       "2        F   59        1               1        1              2   \n",
       "3        M   63        2               2        2              1   \n",
       "4        F   63        1               2        1              1   \n",
       "..     ...  ...      ...             ...      ...            ...   \n",
       "304      F   56        1               1        1              2   \n",
       "305      M   70        2               1        1              1   \n",
       "306      M   58        2               1        1              1   \n",
       "307      M   67        2               1        2              1   \n",
       "308      M   62        1               1        1              2   \n",
       "\n",
       "     CHRONIC DISEASE  FATIGUE  ALLERGY  WHEEZING  ALCOHOL CONSUMING  COUGHING  \\\n",
       "0                  1        2        1         2                  2         2   \n",
       "1                  2        2        2         1                  1         1   \n",
       "2                  1        2        1         2                  1         2   \n",
       "3                  1        1        1         1                  2         1   \n",
       "4                  1        1        1         2                  1         2   \n",
       "..               ...      ...      ...       ...                ...       ...   \n",
       "304                2        2        1         1                  2         2   \n",
       "305                1        2        2         2                  2         2   \n",
       "306                1        1        2         2                  2         2   \n",
       "307                1        2        2         1                  2         2   \n",
       "308                1        2        2         2                  2         1   \n",
       "\n",
       "     SHORTNESS OF BREATH  SWALLOWING DIFFICULTY  CHEST PAIN LUNG_CANCER  \n",
       "0                      2                      2           2         YES  \n",
       "1                      2                      2           2         YES  \n",
       "2                      2                      1           2          NO  \n",
       "3                      1                      2           2          NO  \n",
       "4                      2                      1           1          NO  \n",
       "..                   ...                    ...         ...         ...  \n",
       "304                    2                      2           1         YES  \n",
       "305                    2                      1           2         YES  \n",
       "306                    1                      1           2         YES  \n",
       "307                    2                      1           2         YES  \n",
       "308                    1                      2           1         YES  \n",
       "\n",
       "[309 rows x 16 columns]"
      ]
     },
     "execution_count": 3,
     "metadata": {},
     "output_type": "execute_result"
    }
   ],
   "source": [
    "lung_data"
   ]
  },
  {
   "cell_type": "code",
   "execution_count": 4,
   "id": "5865b5f3",
   "metadata": {},
   "outputs": [
    {
     "data": {
      "text/html": [
       "<div>\n",
       "<style scoped>\n",
       "    .dataframe tbody tr th:only-of-type {\n",
       "        vertical-align: middle;\n",
       "    }\n",
       "\n",
       "    .dataframe tbody tr th {\n",
       "        vertical-align: top;\n",
       "    }\n",
       "\n",
       "    .dataframe thead th {\n",
       "        text-align: right;\n",
       "    }\n",
       "</style>\n",
       "<table border=\"1\" class=\"dataframe\">\n",
       "  <thead>\n",
       "    <tr style=\"text-align: right;\">\n",
       "      <th></th>\n",
       "      <th>GENDER</th>\n",
       "      <th>AGE</th>\n",
       "      <th>SMOKING</th>\n",
       "      <th>YELLOW_FINGERS</th>\n",
       "      <th>ANXIETY</th>\n",
       "      <th>PEER_PRESSURE</th>\n",
       "      <th>CHRONIC DISEASE</th>\n",
       "      <th>FATIGUE</th>\n",
       "      <th>ALLERGY</th>\n",
       "      <th>WHEEZING</th>\n",
       "      <th>ALCOHOL CONSUMING</th>\n",
       "      <th>COUGHING</th>\n",
       "      <th>SHORTNESS OF BREATH</th>\n",
       "      <th>SWALLOWING DIFFICULTY</th>\n",
       "      <th>CHEST PAIN</th>\n",
       "      <th>LUNG_CANCER</th>\n",
       "    </tr>\n",
       "  </thead>\n",
       "  <tbody>\n",
       "    <tr>\n",
       "      <th>0</th>\n",
       "      <td>M</td>\n",
       "      <td>69</td>\n",
       "      <td>1</td>\n",
       "      <td>2</td>\n",
       "      <td>2</td>\n",
       "      <td>1</td>\n",
       "      <td>1</td>\n",
       "      <td>2</td>\n",
       "      <td>1</td>\n",
       "      <td>2</td>\n",
       "      <td>2</td>\n",
       "      <td>2</td>\n",
       "      <td>2</td>\n",
       "      <td>2</td>\n",
       "      <td>2</td>\n",
       "      <td>YES</td>\n",
       "    </tr>\n",
       "    <tr>\n",
       "      <th>1</th>\n",
       "      <td>M</td>\n",
       "      <td>74</td>\n",
       "      <td>2</td>\n",
       "      <td>1</td>\n",
       "      <td>1</td>\n",
       "      <td>1</td>\n",
       "      <td>2</td>\n",
       "      <td>2</td>\n",
       "      <td>2</td>\n",
       "      <td>1</td>\n",
       "      <td>1</td>\n",
       "      <td>1</td>\n",
       "      <td>2</td>\n",
       "      <td>2</td>\n",
       "      <td>2</td>\n",
       "      <td>YES</td>\n",
       "    </tr>\n",
       "    <tr>\n",
       "      <th>2</th>\n",
       "      <td>F</td>\n",
       "      <td>59</td>\n",
       "      <td>1</td>\n",
       "      <td>1</td>\n",
       "      <td>1</td>\n",
       "      <td>2</td>\n",
       "      <td>1</td>\n",
       "      <td>2</td>\n",
       "      <td>1</td>\n",
       "      <td>2</td>\n",
       "      <td>1</td>\n",
       "      <td>2</td>\n",
       "      <td>2</td>\n",
       "      <td>1</td>\n",
       "      <td>2</td>\n",
       "      <td>NO</td>\n",
       "    </tr>\n",
       "    <tr>\n",
       "      <th>3</th>\n",
       "      <td>M</td>\n",
       "      <td>63</td>\n",
       "      <td>2</td>\n",
       "      <td>2</td>\n",
       "      <td>2</td>\n",
       "      <td>1</td>\n",
       "      <td>1</td>\n",
       "      <td>1</td>\n",
       "      <td>1</td>\n",
       "      <td>1</td>\n",
       "      <td>2</td>\n",
       "      <td>1</td>\n",
       "      <td>1</td>\n",
       "      <td>2</td>\n",
       "      <td>2</td>\n",
       "      <td>NO</td>\n",
       "    </tr>\n",
       "    <tr>\n",
       "      <th>4</th>\n",
       "      <td>F</td>\n",
       "      <td>63</td>\n",
       "      <td>1</td>\n",
       "      <td>2</td>\n",
       "      <td>1</td>\n",
       "      <td>1</td>\n",
       "      <td>1</td>\n",
       "      <td>1</td>\n",
       "      <td>1</td>\n",
       "      <td>2</td>\n",
       "      <td>1</td>\n",
       "      <td>2</td>\n",
       "      <td>2</td>\n",
       "      <td>1</td>\n",
       "      <td>1</td>\n",
       "      <td>NO</td>\n",
       "    </tr>\n",
       "  </tbody>\n",
       "</table>\n",
       "</div>"
      ],
      "text/plain": [
       "  GENDER  AGE  SMOKING  YELLOW_FINGERS  ANXIETY  PEER_PRESSURE  \\\n",
       "0      M   69        1               2        2              1   \n",
       "1      M   74        2               1        1              1   \n",
       "2      F   59        1               1        1              2   \n",
       "3      M   63        2               2        2              1   \n",
       "4      F   63        1               2        1              1   \n",
       "\n",
       "   CHRONIC DISEASE  FATIGUE  ALLERGY  WHEEZING  ALCOHOL CONSUMING  COUGHING  \\\n",
       "0                1        2        1         2                  2         2   \n",
       "1                2        2        2         1                  1         1   \n",
       "2                1        2        1         2                  1         2   \n",
       "3                1        1        1         1                  2         1   \n",
       "4                1        1        1         2                  1         2   \n",
       "\n",
       "   SHORTNESS OF BREATH  SWALLOWING DIFFICULTY  CHEST PAIN LUNG_CANCER  \n",
       "0                    2                      2           2         YES  \n",
       "1                    2                      2           2         YES  \n",
       "2                    2                      1           2          NO  \n",
       "3                    1                      2           2          NO  \n",
       "4                    2                      1           1          NO  "
      ]
     },
     "execution_count": 4,
     "metadata": {},
     "output_type": "execute_result"
    }
   ],
   "source": [
    "lung_data.head()"
   ]
  },
  {
   "cell_type": "code",
   "execution_count": 5,
   "id": "1f77a74d",
   "metadata": {},
   "outputs": [
    {
     "data": {
      "text/html": [
       "<div>\n",
       "<style scoped>\n",
       "    .dataframe tbody tr th:only-of-type {\n",
       "        vertical-align: middle;\n",
       "    }\n",
       "\n",
       "    .dataframe tbody tr th {\n",
       "        vertical-align: top;\n",
       "    }\n",
       "\n",
       "    .dataframe thead th {\n",
       "        text-align: right;\n",
       "    }\n",
       "</style>\n",
       "<table border=\"1\" class=\"dataframe\">\n",
       "  <thead>\n",
       "    <tr style=\"text-align: right;\">\n",
       "      <th></th>\n",
       "      <th>GENDER</th>\n",
       "      <th>AGE</th>\n",
       "      <th>SMOKING</th>\n",
       "      <th>YELLOW_FINGERS</th>\n",
       "      <th>ANXIETY</th>\n",
       "      <th>PEER_PRESSURE</th>\n",
       "      <th>CHRONIC DISEASE</th>\n",
       "      <th>FATIGUE</th>\n",
       "      <th>ALLERGY</th>\n",
       "      <th>WHEEZING</th>\n",
       "      <th>ALCOHOL CONSUMING</th>\n",
       "      <th>COUGHING</th>\n",
       "      <th>SHORTNESS OF BREATH</th>\n",
       "      <th>SWALLOWING DIFFICULTY</th>\n",
       "      <th>CHEST PAIN</th>\n",
       "      <th>LUNG_CANCER</th>\n",
       "    </tr>\n",
       "  </thead>\n",
       "  <tbody>\n",
       "    <tr>\n",
       "      <th>304</th>\n",
       "      <td>F</td>\n",
       "      <td>56</td>\n",
       "      <td>1</td>\n",
       "      <td>1</td>\n",
       "      <td>1</td>\n",
       "      <td>2</td>\n",
       "      <td>2</td>\n",
       "      <td>2</td>\n",
       "      <td>1</td>\n",
       "      <td>1</td>\n",
       "      <td>2</td>\n",
       "      <td>2</td>\n",
       "      <td>2</td>\n",
       "      <td>2</td>\n",
       "      <td>1</td>\n",
       "      <td>YES</td>\n",
       "    </tr>\n",
       "    <tr>\n",
       "      <th>305</th>\n",
       "      <td>M</td>\n",
       "      <td>70</td>\n",
       "      <td>2</td>\n",
       "      <td>1</td>\n",
       "      <td>1</td>\n",
       "      <td>1</td>\n",
       "      <td>1</td>\n",
       "      <td>2</td>\n",
       "      <td>2</td>\n",
       "      <td>2</td>\n",
       "      <td>2</td>\n",
       "      <td>2</td>\n",
       "      <td>2</td>\n",
       "      <td>1</td>\n",
       "      <td>2</td>\n",
       "      <td>YES</td>\n",
       "    </tr>\n",
       "    <tr>\n",
       "      <th>306</th>\n",
       "      <td>M</td>\n",
       "      <td>58</td>\n",
       "      <td>2</td>\n",
       "      <td>1</td>\n",
       "      <td>1</td>\n",
       "      <td>1</td>\n",
       "      <td>1</td>\n",
       "      <td>1</td>\n",
       "      <td>2</td>\n",
       "      <td>2</td>\n",
       "      <td>2</td>\n",
       "      <td>2</td>\n",
       "      <td>1</td>\n",
       "      <td>1</td>\n",
       "      <td>2</td>\n",
       "      <td>YES</td>\n",
       "    </tr>\n",
       "    <tr>\n",
       "      <th>307</th>\n",
       "      <td>M</td>\n",
       "      <td>67</td>\n",
       "      <td>2</td>\n",
       "      <td>1</td>\n",
       "      <td>2</td>\n",
       "      <td>1</td>\n",
       "      <td>1</td>\n",
       "      <td>2</td>\n",
       "      <td>2</td>\n",
       "      <td>1</td>\n",
       "      <td>2</td>\n",
       "      <td>2</td>\n",
       "      <td>2</td>\n",
       "      <td>1</td>\n",
       "      <td>2</td>\n",
       "      <td>YES</td>\n",
       "    </tr>\n",
       "    <tr>\n",
       "      <th>308</th>\n",
       "      <td>M</td>\n",
       "      <td>62</td>\n",
       "      <td>1</td>\n",
       "      <td>1</td>\n",
       "      <td>1</td>\n",
       "      <td>2</td>\n",
       "      <td>1</td>\n",
       "      <td>2</td>\n",
       "      <td>2</td>\n",
       "      <td>2</td>\n",
       "      <td>2</td>\n",
       "      <td>1</td>\n",
       "      <td>1</td>\n",
       "      <td>2</td>\n",
       "      <td>1</td>\n",
       "      <td>YES</td>\n",
       "    </tr>\n",
       "  </tbody>\n",
       "</table>\n",
       "</div>"
      ],
      "text/plain": [
       "    GENDER  AGE  SMOKING  YELLOW_FINGERS  ANXIETY  PEER_PRESSURE  \\\n",
       "304      F   56        1               1        1              2   \n",
       "305      M   70        2               1        1              1   \n",
       "306      M   58        2               1        1              1   \n",
       "307      M   67        2               1        2              1   \n",
       "308      M   62        1               1        1              2   \n",
       "\n",
       "     CHRONIC DISEASE  FATIGUE  ALLERGY  WHEEZING  ALCOHOL CONSUMING  COUGHING  \\\n",
       "304                2        2        1         1                  2         2   \n",
       "305                1        2        2         2                  2         2   \n",
       "306                1        1        2         2                  2         2   \n",
       "307                1        2        2         1                  2         2   \n",
       "308                1        2        2         2                  2         1   \n",
       "\n",
       "     SHORTNESS OF BREATH  SWALLOWING DIFFICULTY  CHEST PAIN LUNG_CANCER  \n",
       "304                    2                      2           1         YES  \n",
       "305                    2                      1           2         YES  \n",
       "306                    1                      1           2         YES  \n",
       "307                    2                      1           2         YES  \n",
       "308                    1                      2           1         YES  "
      ]
     },
     "execution_count": 5,
     "metadata": {},
     "output_type": "execute_result"
    }
   ],
   "source": [
    "lung_data.tail()"
   ]
  },
  {
   "cell_type": "code",
   "execution_count": 6,
   "id": "27526252",
   "metadata": {},
   "outputs": [
    {
     "name": "stdout",
     "output_type": "stream",
     "text": [
      "    GENDER  AGE  SMOKING  YELLOW_FINGERS  ANXIETY  PEER_PRESSURE  \\\n",
      "0        M   69        1               2        2              1   \n",
      "1        M   74        2               1        1              1   \n",
      "2        F   59        1               1        1              2   \n",
      "3        M   63        2               2        2              1   \n",
      "4        F   63        1               2        1              1   \n",
      "..     ...  ...      ...             ...      ...            ...   \n",
      "304      F   56        1               1        1              2   \n",
      "305      M   70        2               1        1              1   \n",
      "306      M   58        2               1        1              1   \n",
      "307      M   67        2               1        2              1   \n",
      "308      M   62        1               1        1              2   \n",
      "\n",
      "     CHRONIC DISEASE  FATIGUE  ALLERGY  WHEEZING  ALCOHOL CONSUMING  COUGHING  \\\n",
      "0                  1        2        1         2                  2         2   \n",
      "1                  2        2        2         1                  1         1   \n",
      "2                  1        2        1         2                  1         2   \n",
      "3                  1        1        1         1                  2         1   \n",
      "4                  1        1        1         2                  1         2   \n",
      "..               ...      ...      ...       ...                ...       ...   \n",
      "304                2        2        1         1                  2         2   \n",
      "305                1        2        2         2                  2         2   \n",
      "306                1        1        2         2                  2         2   \n",
      "307                1        2        2         1                  2         2   \n",
      "308                1        2        2         2                  2         1   \n",
      "\n",
      "     SHORTNESS OF BREATH  SWALLOWING DIFFICULTY  CHEST PAIN  \n",
      "0                      2                      2           2  \n",
      "1                      2                      2           2  \n",
      "2                      2                      1           2  \n",
      "3                      1                      2           2  \n",
      "4                      2                      1           1  \n",
      "..                   ...                    ...         ...  \n",
      "304                    2                      2           1  \n",
      "305                    2                      1           2  \n",
      "306                    1                      1           2  \n",
      "307                    2                      1           2  \n",
      "308                    1                      2           1  \n",
      "\n",
      "[309 rows x 15 columns]\n"
     ]
    }
   ],
   "source": [
    "#dependent_variable \n",
    "x = lung_data.iloc[:,0:-1] \n",
    "print(x)"
   ]
  },
  {
   "cell_type": "code",
   "execution_count": 7,
   "id": "c53880d7",
   "metadata": {},
   "outputs": [
    {
     "name": "stdout",
     "output_type": "stream",
     "text": [
      "    LUNG_CANCER\n",
      "0           YES\n",
      "1           YES\n",
      "2            NO\n",
      "3            NO\n",
      "4            NO\n",
      "..          ...\n",
      "304         YES\n",
      "305         YES\n",
      "306         YES\n",
      "307         YES\n",
      "308         YES\n",
      "\n",
      "[309 rows x 1 columns]\n"
     ]
    }
   ],
   "source": [
    "#independent_variable\n",
    "y = lung_data. iloc[:,-1:]\n",
    "print(y)"
   ]
  },
  {
   "cell_type": "code",
   "execution_count": 8,
   "id": "0e96d026",
   "metadata": {},
   "outputs": [],
   "source": [
    "lung_data.GENDER = lung_data.GENDER.map({\"M\":1,\"F\":2})\n",
    "lung_data.LUNG_CANCER = lung_data.LUNG_CANCER.map({\"YES\":1,\"NO\":2})"
   ]
  },
  {
   "cell_type": "code",
   "execution_count": 9,
   "id": "9b9ea8a4",
   "metadata": {},
   "outputs": [
    {
     "data": {
      "text/plain": [
       "(309, 16)"
      ]
     },
     "execution_count": 9,
     "metadata": {},
     "output_type": "execute_result"
    }
   ],
   "source": [
    "lung_data.shape"
   ]
  },
  {
   "cell_type": "code",
   "execution_count": 10,
   "id": "51a5e5bc",
   "metadata": {},
   "outputs": [
    {
     "data": {
      "text/plain": [
       "GENDER                   0\n",
       "AGE                      0\n",
       "SMOKING                  0\n",
       "YELLOW_FINGERS           0\n",
       "ANXIETY                  0\n",
       "PEER_PRESSURE            0\n",
       "CHRONIC DISEASE          0\n",
       "FATIGUE                  0\n",
       "ALLERGY                  0\n",
       "WHEEZING                 0\n",
       "ALCOHOL CONSUMING        0\n",
       "COUGHING                 0\n",
       "SHORTNESS OF BREATH      0\n",
       "SWALLOWING DIFFICULTY    0\n",
       "CHEST PAIN               0\n",
       "LUNG_CANCER              0\n",
       "dtype: int64"
      ]
     },
     "execution_count": 10,
     "metadata": {},
     "output_type": "execute_result"
    }
   ],
   "source": [
    "lung_data.isnull().sum()"
   ]
  },
  {
   "cell_type": "code",
   "execution_count": 11,
   "id": "b3b56be0",
   "metadata": {},
   "outputs": [
    {
     "data": {
      "text/plain": [
       "GENDER                   int64\n",
       "AGE                      int64\n",
       "SMOKING                  int64\n",
       "YELLOW_FINGERS           int64\n",
       "ANXIETY                  int64\n",
       "PEER_PRESSURE            int64\n",
       "CHRONIC DISEASE          int64\n",
       "FATIGUE                  int64\n",
       "ALLERGY                  int64\n",
       "WHEEZING                 int64\n",
       "ALCOHOL CONSUMING        int64\n",
       "COUGHING                 int64\n",
       "SHORTNESS OF BREATH      int64\n",
       "SWALLOWING DIFFICULTY    int64\n",
       "CHEST PAIN               int64\n",
       "LUNG_CANCER              int64\n",
       "dtype: object"
      ]
     },
     "execution_count": 11,
     "metadata": {},
     "output_type": "execute_result"
    }
   ],
   "source": [
    "lung_data.dtypes"
   ]
  },
  {
   "cell_type": "code",
   "execution_count": 12,
   "id": "44f38592",
   "metadata": {},
   "outputs": [
    {
     "data": {
      "text/html": [
       "<div>\n",
       "<style scoped>\n",
       "    .dataframe tbody tr th:only-of-type {\n",
       "        vertical-align: middle;\n",
       "    }\n",
       "\n",
       "    .dataframe tbody tr th {\n",
       "        vertical-align: top;\n",
       "    }\n",
       "\n",
       "    .dataframe thead th {\n",
       "        text-align: right;\n",
       "    }\n",
       "</style>\n",
       "<table border=\"1\" class=\"dataframe\">\n",
       "  <thead>\n",
       "    <tr style=\"text-align: right;\">\n",
       "      <th></th>\n",
       "      <th>GENDER</th>\n",
       "      <th>AGE</th>\n",
       "      <th>SMOKING</th>\n",
       "      <th>YELLOW_FINGERS</th>\n",
       "      <th>ANXIETY</th>\n",
       "      <th>PEER_PRESSURE</th>\n",
       "      <th>CHRONIC DISEASE</th>\n",
       "      <th>FATIGUE</th>\n",
       "      <th>ALLERGY</th>\n",
       "      <th>WHEEZING</th>\n",
       "      <th>ALCOHOL CONSUMING</th>\n",
       "      <th>COUGHING</th>\n",
       "      <th>SHORTNESS OF BREATH</th>\n",
       "      <th>SWALLOWING DIFFICULTY</th>\n",
       "      <th>CHEST PAIN</th>\n",
       "      <th>LUNG_CANCER</th>\n",
       "    </tr>\n",
       "  </thead>\n",
       "  <tbody>\n",
       "    <tr>\n",
       "      <th>0</th>\n",
       "      <td>1</td>\n",
       "      <td>69</td>\n",
       "      <td>1</td>\n",
       "      <td>2</td>\n",
       "      <td>2</td>\n",
       "      <td>1</td>\n",
       "      <td>1</td>\n",
       "      <td>2</td>\n",
       "      <td>1</td>\n",
       "      <td>2</td>\n",
       "      <td>2</td>\n",
       "      <td>2</td>\n",
       "      <td>2</td>\n",
       "      <td>2</td>\n",
       "      <td>2</td>\n",
       "      <td>1</td>\n",
       "    </tr>\n",
       "    <tr>\n",
       "      <th>1</th>\n",
       "      <td>1</td>\n",
       "      <td>74</td>\n",
       "      <td>2</td>\n",
       "      <td>1</td>\n",
       "      <td>1</td>\n",
       "      <td>1</td>\n",
       "      <td>2</td>\n",
       "      <td>2</td>\n",
       "      <td>2</td>\n",
       "      <td>1</td>\n",
       "      <td>1</td>\n",
       "      <td>1</td>\n",
       "      <td>2</td>\n",
       "      <td>2</td>\n",
       "      <td>2</td>\n",
       "      <td>1</td>\n",
       "    </tr>\n",
       "    <tr>\n",
       "      <th>2</th>\n",
       "      <td>2</td>\n",
       "      <td>59</td>\n",
       "      <td>1</td>\n",
       "      <td>1</td>\n",
       "      <td>1</td>\n",
       "      <td>2</td>\n",
       "      <td>1</td>\n",
       "      <td>2</td>\n",
       "      <td>1</td>\n",
       "      <td>2</td>\n",
       "      <td>1</td>\n",
       "      <td>2</td>\n",
       "      <td>2</td>\n",
       "      <td>1</td>\n",
       "      <td>2</td>\n",
       "      <td>2</td>\n",
       "    </tr>\n",
       "    <tr>\n",
       "      <th>3</th>\n",
       "      <td>1</td>\n",
       "      <td>63</td>\n",
       "      <td>2</td>\n",
       "      <td>2</td>\n",
       "      <td>2</td>\n",
       "      <td>1</td>\n",
       "      <td>1</td>\n",
       "      <td>1</td>\n",
       "      <td>1</td>\n",
       "      <td>1</td>\n",
       "      <td>2</td>\n",
       "      <td>1</td>\n",
       "      <td>1</td>\n",
       "      <td>2</td>\n",
       "      <td>2</td>\n",
       "      <td>2</td>\n",
       "    </tr>\n",
       "    <tr>\n",
       "      <th>4</th>\n",
       "      <td>2</td>\n",
       "      <td>63</td>\n",
       "      <td>1</td>\n",
       "      <td>2</td>\n",
       "      <td>1</td>\n",
       "      <td>1</td>\n",
       "      <td>1</td>\n",
       "      <td>1</td>\n",
       "      <td>1</td>\n",
       "      <td>2</td>\n",
       "      <td>1</td>\n",
       "      <td>2</td>\n",
       "      <td>2</td>\n",
       "      <td>1</td>\n",
       "      <td>1</td>\n",
       "      <td>2</td>\n",
       "    </tr>\n",
       "  </tbody>\n",
       "</table>\n",
       "</div>"
      ],
      "text/plain": [
       "   GENDER  AGE  SMOKING  YELLOW_FINGERS  ANXIETY  PEER_PRESSURE  \\\n",
       "0       1   69        1               2        2              1   \n",
       "1       1   74        2               1        1              1   \n",
       "2       2   59        1               1        1              2   \n",
       "3       1   63        2               2        2              1   \n",
       "4       2   63        1               2        1              1   \n",
       "\n",
       "   CHRONIC DISEASE  FATIGUE  ALLERGY  WHEEZING  ALCOHOL CONSUMING  COUGHING  \\\n",
       "0                1        2        1         2                  2         2   \n",
       "1                2        2        2         1                  1         1   \n",
       "2                1        2        1         2                  1         2   \n",
       "3                1        1        1         1                  2         1   \n",
       "4                1        1        1         2                  1         2   \n",
       "\n",
       "   SHORTNESS OF BREATH  SWALLOWING DIFFICULTY  CHEST PAIN  LUNG_CANCER  \n",
       "0                    2                      2           2            1  \n",
       "1                    2                      2           2            1  \n",
       "2                    2                      1           2            2  \n",
       "3                    1                      2           2            2  \n",
       "4                    2                      1           1            2  "
      ]
     },
     "execution_count": 12,
     "metadata": {},
     "output_type": "execute_result"
    }
   ],
   "source": [
    "lung_data.head()"
   ]
  },
  {
   "cell_type": "code",
   "execution_count": 13,
   "id": "2592d4e3",
   "metadata": {},
   "outputs": [
    {
     "data": {
      "text/html": [
       "<div>\n",
       "<style scoped>\n",
       "    .dataframe tbody tr th:only-of-type {\n",
       "        vertical-align: middle;\n",
       "    }\n",
       "\n",
       "    .dataframe tbody tr th {\n",
       "        vertical-align: top;\n",
       "    }\n",
       "\n",
       "    .dataframe thead th {\n",
       "        text-align: right;\n",
       "    }\n",
       "</style>\n",
       "<table border=\"1\" class=\"dataframe\">\n",
       "  <thead>\n",
       "    <tr style=\"text-align: right;\">\n",
       "      <th></th>\n",
       "      <th>GENDER</th>\n",
       "      <th>AGE</th>\n",
       "      <th>SMOKING</th>\n",
       "      <th>YELLOW_FINGERS</th>\n",
       "      <th>ANXIETY</th>\n",
       "      <th>PEER_PRESSURE</th>\n",
       "      <th>CHRONIC DISEASE</th>\n",
       "      <th>FATIGUE</th>\n",
       "      <th>ALLERGY</th>\n",
       "      <th>WHEEZING</th>\n",
       "      <th>ALCOHOL CONSUMING</th>\n",
       "      <th>COUGHING</th>\n",
       "      <th>SHORTNESS OF BREATH</th>\n",
       "      <th>SWALLOWING DIFFICULTY</th>\n",
       "      <th>CHEST PAIN</th>\n",
       "      <th>LUNG_CANCER</th>\n",
       "    </tr>\n",
       "  </thead>\n",
       "  <tbody>\n",
       "    <tr>\n",
       "      <th>304</th>\n",
       "      <td>2</td>\n",
       "      <td>56</td>\n",
       "      <td>1</td>\n",
       "      <td>1</td>\n",
       "      <td>1</td>\n",
       "      <td>2</td>\n",
       "      <td>2</td>\n",
       "      <td>2</td>\n",
       "      <td>1</td>\n",
       "      <td>1</td>\n",
       "      <td>2</td>\n",
       "      <td>2</td>\n",
       "      <td>2</td>\n",
       "      <td>2</td>\n",
       "      <td>1</td>\n",
       "      <td>1</td>\n",
       "    </tr>\n",
       "    <tr>\n",
       "      <th>305</th>\n",
       "      <td>1</td>\n",
       "      <td>70</td>\n",
       "      <td>2</td>\n",
       "      <td>1</td>\n",
       "      <td>1</td>\n",
       "      <td>1</td>\n",
       "      <td>1</td>\n",
       "      <td>2</td>\n",
       "      <td>2</td>\n",
       "      <td>2</td>\n",
       "      <td>2</td>\n",
       "      <td>2</td>\n",
       "      <td>2</td>\n",
       "      <td>1</td>\n",
       "      <td>2</td>\n",
       "      <td>1</td>\n",
       "    </tr>\n",
       "    <tr>\n",
       "      <th>306</th>\n",
       "      <td>1</td>\n",
       "      <td>58</td>\n",
       "      <td>2</td>\n",
       "      <td>1</td>\n",
       "      <td>1</td>\n",
       "      <td>1</td>\n",
       "      <td>1</td>\n",
       "      <td>1</td>\n",
       "      <td>2</td>\n",
       "      <td>2</td>\n",
       "      <td>2</td>\n",
       "      <td>2</td>\n",
       "      <td>1</td>\n",
       "      <td>1</td>\n",
       "      <td>2</td>\n",
       "      <td>1</td>\n",
       "    </tr>\n",
       "    <tr>\n",
       "      <th>307</th>\n",
       "      <td>1</td>\n",
       "      <td>67</td>\n",
       "      <td>2</td>\n",
       "      <td>1</td>\n",
       "      <td>2</td>\n",
       "      <td>1</td>\n",
       "      <td>1</td>\n",
       "      <td>2</td>\n",
       "      <td>2</td>\n",
       "      <td>1</td>\n",
       "      <td>2</td>\n",
       "      <td>2</td>\n",
       "      <td>2</td>\n",
       "      <td>1</td>\n",
       "      <td>2</td>\n",
       "      <td>1</td>\n",
       "    </tr>\n",
       "    <tr>\n",
       "      <th>308</th>\n",
       "      <td>1</td>\n",
       "      <td>62</td>\n",
       "      <td>1</td>\n",
       "      <td>1</td>\n",
       "      <td>1</td>\n",
       "      <td>2</td>\n",
       "      <td>1</td>\n",
       "      <td>2</td>\n",
       "      <td>2</td>\n",
       "      <td>2</td>\n",
       "      <td>2</td>\n",
       "      <td>1</td>\n",
       "      <td>1</td>\n",
       "      <td>2</td>\n",
       "      <td>1</td>\n",
       "      <td>1</td>\n",
       "    </tr>\n",
       "  </tbody>\n",
       "</table>\n",
       "</div>"
      ],
      "text/plain": [
       "     GENDER  AGE  SMOKING  YELLOW_FINGERS  ANXIETY  PEER_PRESSURE  \\\n",
       "304       2   56        1               1        1              2   \n",
       "305       1   70        2               1        1              1   \n",
       "306       1   58        2               1        1              1   \n",
       "307       1   67        2               1        2              1   \n",
       "308       1   62        1               1        1              2   \n",
       "\n",
       "     CHRONIC DISEASE  FATIGUE  ALLERGY  WHEEZING  ALCOHOL CONSUMING  COUGHING  \\\n",
       "304                2        2        1         1                  2         2   \n",
       "305                1        2        2         2                  2         2   \n",
       "306                1        1        2         2                  2         2   \n",
       "307                1        2        2         1                  2         2   \n",
       "308                1        2        2         2                  2         1   \n",
       "\n",
       "     SHORTNESS OF BREATH  SWALLOWING DIFFICULTY  CHEST PAIN  LUNG_CANCER  \n",
       "304                    2                      2           1            1  \n",
       "305                    2                      1           2            1  \n",
       "306                    1                      1           2            1  \n",
       "307                    2                      1           2            1  \n",
       "308                    1                      2           1            1  "
      ]
     },
     "execution_count": 13,
     "metadata": {},
     "output_type": "execute_result"
    }
   ],
   "source": [
    "lung_data.tail()"
   ]
  },
  {
   "cell_type": "code",
   "execution_count": 14,
   "id": "e9e7cdf1",
   "metadata": {},
   "outputs": [
    {
     "data": {
      "text/html": [
       "<div>\n",
       "<style scoped>\n",
       "    .dataframe tbody tr th:only-of-type {\n",
       "        vertical-align: middle;\n",
       "    }\n",
       "\n",
       "    .dataframe tbody tr th {\n",
       "        vertical-align: top;\n",
       "    }\n",
       "\n",
       "    .dataframe thead th {\n",
       "        text-align: right;\n",
       "    }\n",
       "</style>\n",
       "<table border=\"1\" class=\"dataframe\">\n",
       "  <thead>\n",
       "    <tr style=\"text-align: right;\">\n",
       "      <th></th>\n",
       "      <th>GENDER</th>\n",
       "      <th>AGE</th>\n",
       "      <th>SMOKING</th>\n",
       "      <th>YELLOW_FINGERS</th>\n",
       "      <th>ANXIETY</th>\n",
       "      <th>PEER_PRESSURE</th>\n",
       "      <th>CHRONIC DISEASE</th>\n",
       "      <th>FATIGUE</th>\n",
       "      <th>ALLERGY</th>\n",
       "      <th>WHEEZING</th>\n",
       "      <th>ALCOHOL CONSUMING</th>\n",
       "      <th>COUGHING</th>\n",
       "      <th>SHORTNESS OF BREATH</th>\n",
       "      <th>SWALLOWING DIFFICULTY</th>\n",
       "      <th>CHEST PAIN</th>\n",
       "      <th>LUNG_CANCER</th>\n",
       "    </tr>\n",
       "  </thead>\n",
       "  <tbody>\n",
       "    <tr>\n",
       "      <th>count</th>\n",
       "      <td>309.000000</td>\n",
       "      <td>309.000000</td>\n",
       "      <td>309.000000</td>\n",
       "      <td>309.000000</td>\n",
       "      <td>309.000000</td>\n",
       "      <td>309.000000</td>\n",
       "      <td>309.000000</td>\n",
       "      <td>309.000000</td>\n",
       "      <td>309.000000</td>\n",
       "      <td>309.000000</td>\n",
       "      <td>309.000000</td>\n",
       "      <td>309.000000</td>\n",
       "      <td>309.000000</td>\n",
       "      <td>309.000000</td>\n",
       "      <td>309.000000</td>\n",
       "      <td>309.000000</td>\n",
       "    </tr>\n",
       "    <tr>\n",
       "      <th>mean</th>\n",
       "      <td>1.475728</td>\n",
       "      <td>62.673139</td>\n",
       "      <td>1.563107</td>\n",
       "      <td>1.569579</td>\n",
       "      <td>1.498382</td>\n",
       "      <td>1.501618</td>\n",
       "      <td>1.504854</td>\n",
       "      <td>1.673139</td>\n",
       "      <td>1.556634</td>\n",
       "      <td>1.556634</td>\n",
       "      <td>1.556634</td>\n",
       "      <td>1.579288</td>\n",
       "      <td>1.640777</td>\n",
       "      <td>1.469256</td>\n",
       "      <td>1.556634</td>\n",
       "      <td>1.126214</td>\n",
       "    </tr>\n",
       "    <tr>\n",
       "      <th>std</th>\n",
       "      <td>0.500221</td>\n",
       "      <td>8.210301</td>\n",
       "      <td>0.496806</td>\n",
       "      <td>0.495938</td>\n",
       "      <td>0.500808</td>\n",
       "      <td>0.500808</td>\n",
       "      <td>0.500787</td>\n",
       "      <td>0.469827</td>\n",
       "      <td>0.497588</td>\n",
       "      <td>0.497588</td>\n",
       "      <td>0.497588</td>\n",
       "      <td>0.494474</td>\n",
       "      <td>0.480551</td>\n",
       "      <td>0.499863</td>\n",
       "      <td>0.497588</td>\n",
       "      <td>0.332629</td>\n",
       "    </tr>\n",
       "    <tr>\n",
       "      <th>min</th>\n",
       "      <td>1.000000</td>\n",
       "      <td>21.000000</td>\n",
       "      <td>1.000000</td>\n",
       "      <td>1.000000</td>\n",
       "      <td>1.000000</td>\n",
       "      <td>1.000000</td>\n",
       "      <td>1.000000</td>\n",
       "      <td>1.000000</td>\n",
       "      <td>1.000000</td>\n",
       "      <td>1.000000</td>\n",
       "      <td>1.000000</td>\n",
       "      <td>1.000000</td>\n",
       "      <td>1.000000</td>\n",
       "      <td>1.000000</td>\n",
       "      <td>1.000000</td>\n",
       "      <td>1.000000</td>\n",
       "    </tr>\n",
       "    <tr>\n",
       "      <th>25%</th>\n",
       "      <td>1.000000</td>\n",
       "      <td>57.000000</td>\n",
       "      <td>1.000000</td>\n",
       "      <td>1.000000</td>\n",
       "      <td>1.000000</td>\n",
       "      <td>1.000000</td>\n",
       "      <td>1.000000</td>\n",
       "      <td>1.000000</td>\n",
       "      <td>1.000000</td>\n",
       "      <td>1.000000</td>\n",
       "      <td>1.000000</td>\n",
       "      <td>1.000000</td>\n",
       "      <td>1.000000</td>\n",
       "      <td>1.000000</td>\n",
       "      <td>1.000000</td>\n",
       "      <td>1.000000</td>\n",
       "    </tr>\n",
       "    <tr>\n",
       "      <th>50%</th>\n",
       "      <td>1.000000</td>\n",
       "      <td>62.000000</td>\n",
       "      <td>2.000000</td>\n",
       "      <td>2.000000</td>\n",
       "      <td>1.000000</td>\n",
       "      <td>2.000000</td>\n",
       "      <td>2.000000</td>\n",
       "      <td>2.000000</td>\n",
       "      <td>2.000000</td>\n",
       "      <td>2.000000</td>\n",
       "      <td>2.000000</td>\n",
       "      <td>2.000000</td>\n",
       "      <td>2.000000</td>\n",
       "      <td>1.000000</td>\n",
       "      <td>2.000000</td>\n",
       "      <td>1.000000</td>\n",
       "    </tr>\n",
       "    <tr>\n",
       "      <th>75%</th>\n",
       "      <td>2.000000</td>\n",
       "      <td>69.000000</td>\n",
       "      <td>2.000000</td>\n",
       "      <td>2.000000</td>\n",
       "      <td>2.000000</td>\n",
       "      <td>2.000000</td>\n",
       "      <td>2.000000</td>\n",
       "      <td>2.000000</td>\n",
       "      <td>2.000000</td>\n",
       "      <td>2.000000</td>\n",
       "      <td>2.000000</td>\n",
       "      <td>2.000000</td>\n",
       "      <td>2.000000</td>\n",
       "      <td>2.000000</td>\n",
       "      <td>2.000000</td>\n",
       "      <td>1.000000</td>\n",
       "    </tr>\n",
       "    <tr>\n",
       "      <th>max</th>\n",
       "      <td>2.000000</td>\n",
       "      <td>87.000000</td>\n",
       "      <td>2.000000</td>\n",
       "      <td>2.000000</td>\n",
       "      <td>2.000000</td>\n",
       "      <td>2.000000</td>\n",
       "      <td>2.000000</td>\n",
       "      <td>2.000000</td>\n",
       "      <td>2.000000</td>\n",
       "      <td>2.000000</td>\n",
       "      <td>2.000000</td>\n",
       "      <td>2.000000</td>\n",
       "      <td>2.000000</td>\n",
       "      <td>2.000000</td>\n",
       "      <td>2.000000</td>\n",
       "      <td>2.000000</td>\n",
       "    </tr>\n",
       "  </tbody>\n",
       "</table>\n",
       "</div>"
      ],
      "text/plain": [
       "           GENDER         AGE     SMOKING  YELLOW_FINGERS     ANXIETY  \\\n",
       "count  309.000000  309.000000  309.000000      309.000000  309.000000   \n",
       "mean     1.475728   62.673139    1.563107        1.569579    1.498382   \n",
       "std      0.500221    8.210301    0.496806        0.495938    0.500808   \n",
       "min      1.000000   21.000000    1.000000        1.000000    1.000000   \n",
       "25%      1.000000   57.000000    1.000000        1.000000    1.000000   \n",
       "50%      1.000000   62.000000    2.000000        2.000000    1.000000   \n",
       "75%      2.000000   69.000000    2.000000        2.000000    2.000000   \n",
       "max      2.000000   87.000000    2.000000        2.000000    2.000000   \n",
       "\n",
       "       PEER_PRESSURE  CHRONIC DISEASE     FATIGUE     ALLERGY    WHEEZING  \\\n",
       "count     309.000000       309.000000  309.000000  309.000000  309.000000   \n",
       "mean        1.501618         1.504854    1.673139    1.556634    1.556634   \n",
       "std         0.500808         0.500787    0.469827    0.497588    0.497588   \n",
       "min         1.000000         1.000000    1.000000    1.000000    1.000000   \n",
       "25%         1.000000         1.000000    1.000000    1.000000    1.000000   \n",
       "50%         2.000000         2.000000    2.000000    2.000000    2.000000   \n",
       "75%         2.000000         2.000000    2.000000    2.000000    2.000000   \n",
       "max         2.000000         2.000000    2.000000    2.000000    2.000000   \n",
       "\n",
       "       ALCOHOL CONSUMING    COUGHING  SHORTNESS OF BREATH  \\\n",
       "count         309.000000  309.000000           309.000000   \n",
       "mean            1.556634    1.579288             1.640777   \n",
       "std             0.497588    0.494474             0.480551   \n",
       "min             1.000000    1.000000             1.000000   \n",
       "25%             1.000000    1.000000             1.000000   \n",
       "50%             2.000000    2.000000             2.000000   \n",
       "75%             2.000000    2.000000             2.000000   \n",
       "max             2.000000    2.000000             2.000000   \n",
       "\n",
       "       SWALLOWING DIFFICULTY  CHEST PAIN  LUNG_CANCER  \n",
       "count             309.000000  309.000000   309.000000  \n",
       "mean                1.469256    1.556634     1.126214  \n",
       "std                 0.499863    0.497588     0.332629  \n",
       "min                 1.000000    1.000000     1.000000  \n",
       "25%                 1.000000    1.000000     1.000000  \n",
       "50%                 1.000000    2.000000     1.000000  \n",
       "75%                 2.000000    2.000000     1.000000  \n",
       "max                 2.000000    2.000000     2.000000  "
      ]
     },
     "execution_count": 14,
     "metadata": {},
     "output_type": "execute_result"
    }
   ],
   "source": [
    "#the describe() method returns description of data in DataFrame\n",
    "lung_data.describe()"
   ]
  },
  {
   "cell_type": "code",
   "execution_count": 15,
   "id": "18426938",
   "metadata": {},
   "outputs": [
    {
     "name": "stdout",
     "output_type": "stream",
     "text": [
      "<class 'pandas.core.frame.DataFrame'>\n",
      "RangeIndex: 309 entries, 0 to 308\n",
      "Data columns (total 16 columns):\n",
      " #   Column                 Non-Null Count  Dtype\n",
      "---  ------                 --------------  -----\n",
      " 0   GENDER                 309 non-null    int64\n",
      " 1   AGE                    309 non-null    int64\n",
      " 2   SMOKING                309 non-null    int64\n",
      " 3   YELLOW_FINGERS         309 non-null    int64\n",
      " 4   ANXIETY                309 non-null    int64\n",
      " 5   PEER_PRESSURE          309 non-null    int64\n",
      " 6   CHRONIC DISEASE        309 non-null    int64\n",
      " 7   FATIGUE                309 non-null    int64\n",
      " 8   ALLERGY                309 non-null    int64\n",
      " 9   WHEEZING               309 non-null    int64\n",
      " 10  ALCOHOL CONSUMING      309 non-null    int64\n",
      " 11  COUGHING               309 non-null    int64\n",
      " 12  SHORTNESS OF BREATH    309 non-null    int64\n",
      " 13  SWALLOWING DIFFICULTY  309 non-null    int64\n",
      " 14  CHEST PAIN             309 non-null    int64\n",
      " 15  LUNG_CANCER            309 non-null    int64\n",
      "dtypes: int64(16)\n",
      "memory usage: 38.8 KB\n"
     ]
    }
   ],
   "source": [
    "#the info() method prints information of the database\n",
    "lung_data.info()"
   ]
  },
  {
   "cell_type": "code",
   "execution_count": 16,
   "id": "7a37db6e",
   "metadata": {},
   "outputs": [],
   "source": [
    "#Splitting the Dataset: Training and Testing\n",
    "from sklearn.model_selection import train_test_split\n",
    "x_train,x_test,y_train,y_test = train_test_split(x,y,test_size=1/3,random_state=0)"
   ]
  },
  {
   "cell_type": "code",
   "execution_count": 17,
   "id": "bfead0c0",
   "metadata": {
    "scrolled": true
   },
   "outputs": [
    {
     "data": {
      "text/plain": [
       "1    270\n",
       "2     39\n",
       "Name: LUNG_CANCER, dtype: int64"
      ]
     },
     "execution_count": 17,
     "metadata": {},
     "output_type": "execute_result"
    }
   ],
   "source": [
    "lung_data['LUNG_CANCER'].value_counts()"
   ]
  },
  {
   "cell_type": "code",
   "execution_count": 18,
   "id": "d9286c3f",
   "metadata": {},
   "outputs": [
    {
     "data": {
      "text/plain": [
       "309"
      ]
     },
     "execution_count": 18,
     "metadata": {},
     "output_type": "execute_result"
    }
   ],
   "source": [
    "len(lung_data)"
   ]
  },
  {
   "cell_type": "code",
   "execution_count": 19,
   "id": "fa00fa40",
   "metadata": {},
   "outputs": [
    {
     "data": {
      "text/plain": [
       "103"
      ]
     },
     "execution_count": 19,
     "metadata": {},
     "output_type": "execute_result"
    }
   ],
   "source": [
    "len(x_test)"
   ]
  },
  {
   "cell_type": "code",
   "execution_count": 20,
   "id": "37951afd",
   "metadata": {},
   "outputs": [
    {
     "data": {
      "text/plain": [
       "206"
      ]
     },
     "execution_count": 20,
     "metadata": {},
     "output_type": "execute_result"
    }
   ],
   "source": [
    "len(x_train)"
   ]
  },
  {
   "cell_type": "code",
   "execution_count": 21,
   "id": "4cfb72b5",
   "metadata": {},
   "outputs": [
    {
     "data": {
      "text/html": [
       "<div>\n",
       "<style scoped>\n",
       "    .dataframe tbody tr th:only-of-type {\n",
       "        vertical-align: middle;\n",
       "    }\n",
       "\n",
       "    .dataframe tbody tr th {\n",
       "        vertical-align: top;\n",
       "    }\n",
       "\n",
       "    .dataframe thead th {\n",
       "        text-align: right;\n",
       "    }\n",
       "</style>\n",
       "<table border=\"1\" class=\"dataframe\">\n",
       "  <thead>\n",
       "    <tr style=\"text-align: right;\">\n",
       "      <th></th>\n",
       "      <th>GENDER</th>\n",
       "      <th>AGE</th>\n",
       "      <th>SMOKING</th>\n",
       "      <th>YELLOW_FINGERS</th>\n",
       "      <th>ANXIETY</th>\n",
       "      <th>PEER_PRESSURE</th>\n",
       "      <th>CHRONIC DISEASE</th>\n",
       "      <th>FATIGUE</th>\n",
       "      <th>ALLERGY</th>\n",
       "      <th>WHEEZING</th>\n",
       "      <th>ALCOHOL CONSUMING</th>\n",
       "      <th>COUGHING</th>\n",
       "      <th>SHORTNESS OF BREATH</th>\n",
       "      <th>SWALLOWING DIFFICULTY</th>\n",
       "      <th>CHEST PAIN</th>\n",
       "    </tr>\n",
       "  </thead>\n",
       "  <tbody>\n",
       "    <tr>\n",
       "      <th>0</th>\n",
       "      <td>1</td>\n",
       "      <td>69</td>\n",
       "      <td>1</td>\n",
       "      <td>2</td>\n",
       "      <td>2</td>\n",
       "      <td>1</td>\n",
       "      <td>1</td>\n",
       "      <td>2</td>\n",
       "      <td>1</td>\n",
       "      <td>2</td>\n",
       "      <td>2</td>\n",
       "      <td>2</td>\n",
       "      <td>2</td>\n",
       "      <td>2</td>\n",
       "      <td>2</td>\n",
       "    </tr>\n",
       "    <tr>\n",
       "      <th>1</th>\n",
       "      <td>1</td>\n",
       "      <td>74</td>\n",
       "      <td>2</td>\n",
       "      <td>1</td>\n",
       "      <td>1</td>\n",
       "      <td>1</td>\n",
       "      <td>2</td>\n",
       "      <td>2</td>\n",
       "      <td>2</td>\n",
       "      <td>1</td>\n",
       "      <td>1</td>\n",
       "      <td>1</td>\n",
       "      <td>2</td>\n",
       "      <td>2</td>\n",
       "      <td>2</td>\n",
       "    </tr>\n",
       "    <tr>\n",
       "      <th>2</th>\n",
       "      <td>2</td>\n",
       "      <td>59</td>\n",
       "      <td>1</td>\n",
       "      <td>1</td>\n",
       "      <td>1</td>\n",
       "      <td>2</td>\n",
       "      <td>1</td>\n",
       "      <td>2</td>\n",
       "      <td>1</td>\n",
       "      <td>2</td>\n",
       "      <td>1</td>\n",
       "      <td>2</td>\n",
       "      <td>2</td>\n",
       "      <td>1</td>\n",
       "      <td>2</td>\n",
       "    </tr>\n",
       "    <tr>\n",
       "      <th>3</th>\n",
       "      <td>1</td>\n",
       "      <td>63</td>\n",
       "      <td>2</td>\n",
       "      <td>2</td>\n",
       "      <td>2</td>\n",
       "      <td>1</td>\n",
       "      <td>1</td>\n",
       "      <td>1</td>\n",
       "      <td>1</td>\n",
       "      <td>1</td>\n",
       "      <td>2</td>\n",
       "      <td>1</td>\n",
       "      <td>1</td>\n",
       "      <td>2</td>\n",
       "      <td>2</td>\n",
       "    </tr>\n",
       "    <tr>\n",
       "      <th>4</th>\n",
       "      <td>2</td>\n",
       "      <td>63</td>\n",
       "      <td>1</td>\n",
       "      <td>2</td>\n",
       "      <td>1</td>\n",
       "      <td>1</td>\n",
       "      <td>1</td>\n",
       "      <td>1</td>\n",
       "      <td>1</td>\n",
       "      <td>2</td>\n",
       "      <td>1</td>\n",
       "      <td>2</td>\n",
       "      <td>2</td>\n",
       "      <td>1</td>\n",
       "      <td>1</td>\n",
       "    </tr>\n",
       "    <tr>\n",
       "      <th>...</th>\n",
       "      <td>...</td>\n",
       "      <td>...</td>\n",
       "      <td>...</td>\n",
       "      <td>...</td>\n",
       "      <td>...</td>\n",
       "      <td>...</td>\n",
       "      <td>...</td>\n",
       "      <td>...</td>\n",
       "      <td>...</td>\n",
       "      <td>...</td>\n",
       "      <td>...</td>\n",
       "      <td>...</td>\n",
       "      <td>...</td>\n",
       "      <td>...</td>\n",
       "      <td>...</td>\n",
       "    </tr>\n",
       "    <tr>\n",
       "      <th>304</th>\n",
       "      <td>2</td>\n",
       "      <td>56</td>\n",
       "      <td>1</td>\n",
       "      <td>1</td>\n",
       "      <td>1</td>\n",
       "      <td>2</td>\n",
       "      <td>2</td>\n",
       "      <td>2</td>\n",
       "      <td>1</td>\n",
       "      <td>1</td>\n",
       "      <td>2</td>\n",
       "      <td>2</td>\n",
       "      <td>2</td>\n",
       "      <td>2</td>\n",
       "      <td>1</td>\n",
       "    </tr>\n",
       "    <tr>\n",
       "      <th>305</th>\n",
       "      <td>1</td>\n",
       "      <td>70</td>\n",
       "      <td>2</td>\n",
       "      <td>1</td>\n",
       "      <td>1</td>\n",
       "      <td>1</td>\n",
       "      <td>1</td>\n",
       "      <td>2</td>\n",
       "      <td>2</td>\n",
       "      <td>2</td>\n",
       "      <td>2</td>\n",
       "      <td>2</td>\n",
       "      <td>2</td>\n",
       "      <td>1</td>\n",
       "      <td>2</td>\n",
       "    </tr>\n",
       "    <tr>\n",
       "      <th>306</th>\n",
       "      <td>1</td>\n",
       "      <td>58</td>\n",
       "      <td>2</td>\n",
       "      <td>1</td>\n",
       "      <td>1</td>\n",
       "      <td>1</td>\n",
       "      <td>1</td>\n",
       "      <td>1</td>\n",
       "      <td>2</td>\n",
       "      <td>2</td>\n",
       "      <td>2</td>\n",
       "      <td>2</td>\n",
       "      <td>1</td>\n",
       "      <td>1</td>\n",
       "      <td>2</td>\n",
       "    </tr>\n",
       "    <tr>\n",
       "      <th>307</th>\n",
       "      <td>1</td>\n",
       "      <td>67</td>\n",
       "      <td>2</td>\n",
       "      <td>1</td>\n",
       "      <td>2</td>\n",
       "      <td>1</td>\n",
       "      <td>1</td>\n",
       "      <td>2</td>\n",
       "      <td>2</td>\n",
       "      <td>1</td>\n",
       "      <td>2</td>\n",
       "      <td>2</td>\n",
       "      <td>2</td>\n",
       "      <td>1</td>\n",
       "      <td>2</td>\n",
       "    </tr>\n",
       "    <tr>\n",
       "      <th>308</th>\n",
       "      <td>1</td>\n",
       "      <td>62</td>\n",
       "      <td>1</td>\n",
       "      <td>1</td>\n",
       "      <td>1</td>\n",
       "      <td>2</td>\n",
       "      <td>1</td>\n",
       "      <td>2</td>\n",
       "      <td>2</td>\n",
       "      <td>2</td>\n",
       "      <td>2</td>\n",
       "      <td>1</td>\n",
       "      <td>1</td>\n",
       "      <td>2</td>\n",
       "      <td>1</td>\n",
       "    </tr>\n",
       "  </tbody>\n",
       "</table>\n",
       "<p>309 rows × 15 columns</p>\n",
       "</div>"
      ],
      "text/plain": [
       "     GENDER  AGE  SMOKING  YELLOW_FINGERS  ANXIETY  PEER_PRESSURE  \\\n",
       "0         1   69        1               2        2              1   \n",
       "1         1   74        2               1        1              1   \n",
       "2         2   59        1               1        1              2   \n",
       "3         1   63        2               2        2              1   \n",
       "4         2   63        1               2        1              1   \n",
       "..      ...  ...      ...             ...      ...            ...   \n",
       "304       2   56        1               1        1              2   \n",
       "305       1   70        2               1        1              1   \n",
       "306       1   58        2               1        1              1   \n",
       "307       1   67        2               1        2              1   \n",
       "308       1   62        1               1        1              2   \n",
       "\n",
       "     CHRONIC DISEASE  FATIGUE  ALLERGY  WHEEZING  ALCOHOL CONSUMING  COUGHING  \\\n",
       "0                  1        2        1         2                  2         2   \n",
       "1                  2        2        2         1                  1         1   \n",
       "2                  1        2        1         2                  1         2   \n",
       "3                  1        1        1         1                  2         1   \n",
       "4                  1        1        1         2                  1         2   \n",
       "..               ...      ...      ...       ...                ...       ...   \n",
       "304                2        2        1         1                  2         2   \n",
       "305                1        2        2         2                  2         2   \n",
       "306                1        1        2         2                  2         2   \n",
       "307                1        2        2         1                  2         2   \n",
       "308                1        2        2         2                  2         1   \n",
       "\n",
       "     SHORTNESS OF BREATH  SWALLOWING DIFFICULTY  CHEST PAIN  \n",
       "0                      2                      2           2  \n",
       "1                      2                      2           2  \n",
       "2                      2                      1           2  \n",
       "3                      1                      2           2  \n",
       "4                      2                      1           1  \n",
       "..                   ...                    ...         ...  \n",
       "304                    2                      2           1  \n",
       "305                    2                      1           2  \n",
       "306                    1                      1           2  \n",
       "307                    2                      1           2  \n",
       "308                    1                      2           1  \n",
       "\n",
       "[309 rows x 15 columns]"
      ]
     },
     "execution_count": 21,
     "metadata": {},
     "output_type": "execute_result"
    }
   ],
   "source": [
    "#dependent_variable\n",
    "x = lung_data.iloc[:,0:-1]\n",
    "x"
   ]
  },
  {
   "cell_type": "code",
   "execution_count": 22,
   "id": "d7f6d150",
   "metadata": {},
   "outputs": [
    {
     "data": {
      "text/html": [
       "<div>\n",
       "<style scoped>\n",
       "    .dataframe tbody tr th:only-of-type {\n",
       "        vertical-align: middle;\n",
       "    }\n",
       "\n",
       "    .dataframe tbody tr th {\n",
       "        vertical-align: top;\n",
       "    }\n",
       "\n",
       "    .dataframe thead th {\n",
       "        text-align: right;\n",
       "    }\n",
       "</style>\n",
       "<table border=\"1\" class=\"dataframe\">\n",
       "  <thead>\n",
       "    <tr style=\"text-align: right;\">\n",
       "      <th></th>\n",
       "      <th>LUNG_CANCER</th>\n",
       "    </tr>\n",
       "  </thead>\n",
       "  <tbody>\n",
       "    <tr>\n",
       "      <th>0</th>\n",
       "      <td>1</td>\n",
       "    </tr>\n",
       "    <tr>\n",
       "      <th>1</th>\n",
       "      <td>1</td>\n",
       "    </tr>\n",
       "    <tr>\n",
       "      <th>2</th>\n",
       "      <td>2</td>\n",
       "    </tr>\n",
       "    <tr>\n",
       "      <th>3</th>\n",
       "      <td>2</td>\n",
       "    </tr>\n",
       "    <tr>\n",
       "      <th>4</th>\n",
       "      <td>2</td>\n",
       "    </tr>\n",
       "    <tr>\n",
       "      <th>...</th>\n",
       "      <td>...</td>\n",
       "    </tr>\n",
       "    <tr>\n",
       "      <th>304</th>\n",
       "      <td>1</td>\n",
       "    </tr>\n",
       "    <tr>\n",
       "      <th>305</th>\n",
       "      <td>1</td>\n",
       "    </tr>\n",
       "    <tr>\n",
       "      <th>306</th>\n",
       "      <td>1</td>\n",
       "    </tr>\n",
       "    <tr>\n",
       "      <th>307</th>\n",
       "      <td>1</td>\n",
       "    </tr>\n",
       "    <tr>\n",
       "      <th>308</th>\n",
       "      <td>1</td>\n",
       "    </tr>\n",
       "  </tbody>\n",
       "</table>\n",
       "<p>309 rows × 1 columns</p>\n",
       "</div>"
      ],
      "text/plain": [
       "     LUNG_CANCER\n",
       "0              1\n",
       "1              1\n",
       "2              2\n",
       "3              2\n",
       "4              2\n",
       "..           ...\n",
       "304            1\n",
       "305            1\n",
       "306            1\n",
       "307            1\n",
       "308            1\n",
       "\n",
       "[309 rows x 1 columns]"
      ]
     },
     "execution_count": 22,
     "metadata": {},
     "output_type": "execute_result"
    }
   ],
   "source": [
    "#independent_variable\n",
    "y = lung_data.iloc[:,-1:] \n",
    "y"
   ]
  },
  {
   "cell_type": "code",
   "execution_count": 23,
   "id": "4d4e3ac8",
   "metadata": {},
   "outputs": [],
   "source": [
    "from sklearn.linear_model import LogisticRegression\n",
    "from sklearn.metrics import confusion_matrix\n",
    "from sklearn.metrics import accuracy_score\n",
    "from sklearn.metrics import precision_score\n",
    "from sklearn.metrics import recall_score\n",
    "from sklearn.metrics import f1_score"
   ]
  },
  {
   "cell_type": "code",
   "execution_count": 24,
   "id": "c5fd1145",
   "metadata": {},
   "outputs": [],
   "source": [
    "from sklearn.linear_model import LogisticRegression\n",
    "x_train,x_test,y_train,y_test = train_test_split(x,y,test_size=1/3,random_state=0)"
   ]
  },
  {
   "cell_type": "markdown",
   "id": "d8ad4cc5",
   "metadata": {},
   "source": [
    "Logistic Regression"
   ]
  },
  {
   "cell_type": "code",
   "execution_count": 25,
   "id": "f97e35e5",
   "metadata": {},
   "outputs": [
    {
     "name": "stderr",
     "output_type": "stream",
     "text": [
      "C:\\ProgramData\\Anaconda3\\lib\\site-packages\\sklearn\\utils\\validation.py:1143: DataConversionWarning: A column-vector y was passed when a 1d array was expected. Please change the shape of y to (n_samples, ), for example using ravel().\n",
      "  y = column_or_1d(y, warn=True)\n",
      "C:\\ProgramData\\Anaconda3\\lib\\site-packages\\sklearn\\linear_model\\_logistic.py:458: ConvergenceWarning: lbfgs failed to converge (status=1):\n",
      "STOP: TOTAL NO. of ITERATIONS REACHED LIMIT.\n",
      "\n",
      "Increase the number of iterations (max_iter) or scale the data as shown in:\n",
      "    https://scikit-learn.org/stable/modules/preprocessing.html\n",
      "Please also refer to the documentation for alternative solver options:\n",
      "    https://scikit-learn.org/stable/modules/linear_model.html#logistic-regression\n",
      "  n_iter_i = _check_optimize_result(\n"
     ]
    }
   ],
   "source": [
    "#Fitting simple linear regression to the training test\n",
    "Model1 = LogisticRegression()\n",
    "Model1.fit(x_train, y_train)\n",
    "#Predicting the test set results\n",
    "prediction1 = Model1.predict(x_test)"
   ]
  },
  {
   "cell_type": "code",
   "execution_count": 26,
   "id": "d5172ffc",
   "metadata": {},
   "outputs": [
    {
     "data": {
      "text/plain": [
       "array([1, 1, 1, 1, 1, 1, 1, 1, 1, 1, 1, 1, 1, 1, 1, 1, 1, 2, 1, 2, 1, 1,\n",
       "       1, 1, 2, 2, 1, 1, 1, 1, 1, 1, 1, 1, 1, 1, 1, 1, 1, 1, 1, 1, 1, 1,\n",
       "       1, 2, 1, 1, 1, 1, 1, 1, 1, 1, 1, 1, 1, 1, 1, 1, 1, 1, 1, 1, 1, 1,\n",
       "       1, 1, 1, 1, 1, 1, 1, 1, 2, 1, 1, 1, 1, 1, 2, 1, 1, 1, 1, 1, 1, 1,\n",
       "       1, 1, 1, 1, 1, 2, 1, 1, 1, 1, 1, 1, 1, 1, 1], dtype=int64)"
      ]
     },
     "execution_count": 26,
     "metadata": {},
     "output_type": "execute_result"
    }
   ],
   "source": [
    "prediction1"
   ]
  },
  {
   "cell_type": "code",
   "execution_count": 27,
   "id": "6001a0ef",
   "metadata": {},
   "outputs": [
    {
     "data": {
      "text/plain": [
       "array([[85,  2],\n",
       "       [10,  6]], dtype=int64)"
      ]
     },
     "execution_count": 27,
     "metadata": {},
     "output_type": "execute_result"
    }
   ],
   "source": [
    "from sklearn.metrics import confusion_matrix\n",
    "from sklearn.metrics import accuracy_score\n",
    "confusion_matrix(y_test,prediction1)"
   ]
  },
  {
   "cell_type": "code",
   "execution_count": 28,
   "id": "0a045421",
   "metadata": {},
   "outputs": [
    {
     "data": {
      "text/plain": [
       "0.883495145631068"
      ]
     },
     "execution_count": 28,
     "metadata": {},
     "output_type": "execute_result"
    }
   ],
   "source": [
    " accuracy_score(y_test,prediction1)"
   ]
  },
  {
   "cell_type": "code",
   "execution_count": 29,
   "id": "c7690c64",
   "metadata": {},
   "outputs": [
    {
     "data": {
      "text/plain": [
       "array([0.89473684, 0.75      ])"
      ]
     },
     "execution_count": 29,
     "metadata": {},
     "output_type": "execute_result"
    }
   ],
   "source": [
    "from sklearn.metrics import precision_score\n",
    "probs = Model1.predict_proba(x_test)\n",
    "precision_score(y_test, prediction1, average = None)"
   ]
  },
  {
   "cell_type": "code",
   "execution_count": 88,
   "id": "6310670c",
   "metadata": {},
   "outputs": [
    {
     "name": "stdout",
     "output_type": "stream",
     "text": [
      "Accuracy: 0.883495145631068\n",
      "Precision: 0.8947368421052632\n",
      "Recall: 0.9770114942528736\n",
      "F1 score: 0.9340659340659342\n"
     ]
    }
   ],
   "source": [
    "from sklearn.metrics import precision_score, recall_score, f1_score\n",
    "\n",
    "# assuming your predicted and actual labels are stored in variables y_pred and y_true, respectively\n",
    "accuracy = accuracy_score(y_test, prediction1)\n",
    "precision = precision_score(y_test, prediction1)\n",
    "recall = recall_score(y_test, prediction1)\n",
    "f1 = f1_score(y_test, prediction1)\n",
    "\n",
    "print(\"Accuracy:\", accuracy)\n",
    "print(\"Precision:\", precision)\n",
    "print(\"Recall:\", recall)\n",
    "print(\"F1 score:\", f1)"
   ]
  },
  {
   "cell_type": "code",
   "execution_count": 31,
   "id": "9f209fb5",
   "metadata": {},
   "outputs": [],
   "source": [
    "from sklearn.metrics import recall_score\n",
    "from sklearn.metrics import f1_score"
   ]
  },
  {
   "cell_type": "code",
   "execution_count": 32,
   "id": "061a23a7",
   "metadata": {},
   "outputs": [
    {
     "data": {
      "text/plain": [
       "array([0.97701149, 0.375     ])"
      ]
     },
     "execution_count": 32,
     "metadata": {},
     "output_type": "execute_result"
    }
   ],
   "source": [
    "recall_score(y_test, prediction1, average = None)"
   ]
  },
  {
   "cell_type": "code",
   "execution_count": 33,
   "id": "7bff9f73",
   "metadata": {},
   "outputs": [
    {
     "data": {
      "text/plain": [
       "array([0.93406593, 0.5       ])"
      ]
     },
     "execution_count": 33,
     "metadata": {},
     "output_type": "execute_result"
    }
   ],
   "source": [
    " f1_score(y_test, prediction1, average = None)"
   ]
  },
  {
   "cell_type": "code",
   "execution_count": 34,
   "id": "9db6e38f",
   "metadata": {},
   "outputs": [
    {
     "data": {
      "image/png": "[encoded data removed]",
      "text/plain": [
       "<Figure size 640x480 with 2 Axes>"
      ]
     },
     "metadata": {},
     "output_type": "display_data"
    }
   ],
   "source": [
    "cm = confusion_matrix(y_true = y_test, y_pred = prediction1)\n",
    "#plot_confusion_matrix(cm,level,title = \"confusion_matrix\")\n",
    "sns.heatmap(cm, annot=True, cmap=\"Blues\", fmt=\"d\")\n",
    "plt.xlabel(\"Predicted Labels\")\n",
    "plt.ylabel(\"True Labels\")\n",
    "plt.title(\"Confusion Matrix\")\n",
    "plt.show()"
   ]
  },
  {
   "cell_type": "markdown",
   "id": "b1a93084",
   "metadata": {},
   "source": [
    "KNN"
   ]
  },
  {
   "cell_type": "code",
   "execution_count": 35,
   "id": "a644d5cb",
   "metadata": {},
   "outputs": [],
   "source": [
    " from sklearn.neighbors import KNeighborsClassifier"
   ]
  },
  {
   "cell_type": "code",
   "execution_count": 36,
   "id": "aaad0759",
   "metadata": {},
   "outputs": [
    {
     "name": "stderr",
     "output_type": "stream",
     "text": [
      "C:\\ProgramData\\Anaconda3\\lib\\site-packages\\sklearn\\neighbors\\_classification.py:215: DataConversionWarning: A column-vector y was passed when a 1d array was expected. Please change the shape of y to (n_samples,), for example using ravel().\n",
      "  return self._fit(X, y)\n"
     ]
    },
    {
     "data": {
      "text/html": [
       "<style>#sk-container-id-1 {color: black;background-color: white;}#sk-container-id-1 pre{padding: 0;}#sk-container-id-1 div.sk-toggleable {background-color: white;}#sk-container-id-1 label.sk-toggleable__label {cursor: pointer;display: block;width: 100%;margin-bottom: 0;padding: 0.3em;box-sizing: border-box;text-align: center;}#sk-container-id-1 label.sk-toggleable__label-arrow:before {content: \"▸\";float: left;margin-right: 0.25em;color: #696969;}#sk-container-id-1 label.sk-toggleable__label-arrow:hover:before {color: black;}#sk-container-id-1 div.sk-estimator:hover label.sk-toggleable__label-arrow:before {color: black;}#sk-container-id-1 div.sk-toggleable__content {max-height: 0;max-width: 0;overflow: hidden;text-align: left;background-color: #f0f8ff;}#sk-container-id-1 div.sk-toggleable__content pre {margin: 0.2em;color: black;border-radius: 0.25em;background-color: #f0f8ff;}#sk-container-id-1 input.sk-toggleable__control:checked~div.sk-toggleable__content {max-height: 200px;max-width: 100%;overflow: auto;}#sk-container-id-1 input.sk-toggleable__control:checked~label.sk-toggleable__label-arrow:before {content: \"▾\";}#sk-container-id-1 div.sk-estimator input.sk-toggleable__control:checked~label.sk-toggleable__label {background-color: #d4ebff;}#sk-container-id-1 div.sk-label input.sk-toggleable__control:checked~label.sk-toggleable__label {background-color: #d4ebff;}#sk-container-id-1 input.sk-hidden--visually {border: 0;clip: rect(1px 1px 1px 1px);clip: rect(1px, 1px, 1px, 1px);height: 1px;margin: -1px;overflow: hidden;padding: 0;position: absolute;width: 1px;}#sk-container-id-1 div.sk-estimator {font-family: monospace;background-color: #f0f8ff;border: 1px dotted black;border-radius: 0.25em;box-sizing: border-box;margin-bottom: 0.5em;}#sk-container-id-1 div.sk-estimator:hover {background-color: #d4ebff;}#sk-container-id-1 div.sk-parallel-item::after {content: \"\";width: 100%;border-bottom: 1px solid gray;flex-grow: 1;}#sk-container-id-1 div.sk-label:hover label.sk-toggleable__label {background-color: #d4ebff;}#sk-container-id-1 div.sk-serial::before {content: \"\";position: absolute;border-left: 1px solid gray;box-sizing: border-box;top: 0;bottom: 0;left: 50%;z-index: 0;}#sk-container-id-1 div.sk-serial {display: flex;flex-direction: column;align-items: center;background-color: white;padding-right: 0.2em;padding-left: 0.2em;position: relative;}#sk-container-id-1 div.sk-item {position: relative;z-index: 1;}#sk-container-id-1 div.sk-parallel {display: flex;align-items: stretch;justify-content: center;background-color: white;position: relative;}#sk-container-id-1 div.sk-item::before, #sk-container-id-1 div.sk-parallel-item::before {content: \"\";position: absolute;border-left: 1px solid gray;box-sizing: border-box;top: 0;bottom: 0;left: 50%;z-index: -1;}#sk-container-id-1 div.sk-parallel-item {display: flex;flex-direction: column;z-index: 1;position: relative;background-color: white;}#sk-container-id-1 div.sk-parallel-item:first-child::after {align-self: flex-end;width: 50%;}#sk-container-id-1 div.sk-parallel-item:last-child::after {align-self: flex-start;width: 50%;}#sk-container-id-1 div.sk-parallel-item:only-child::after {width: 0;}#sk-container-id-1 div.sk-dashed-wrapped {border: 1px dashed gray;margin: 0 0.4em 0.5em 0.4em;box-sizing: border-box;padding-bottom: 0.4em;background-color: white;}#sk-container-id-1 div.sk-label label {font-family: monospace;font-weight: bold;display: inline-block;line-height: 1.2em;}#sk-container-id-1 div.sk-label-container {text-align: center;}#sk-container-id-1 div.sk-container {/* jupyter's `normalize.less` sets `[hidden] { display: none; }` but bootstrap.min.css set `[hidden] { display: none !important; }` so we also need the `!important` here to be able to override the default hidden behavior on the sphinx rendered scikit-learn.org. See: https://github.com/scikit-learn/scikit-learn/issues/21755 */display: inline-block !important;position: relative;}#sk-container-id-1 div.sk-text-repr-fallback {display: none;}</style><div id=\"sk-container-id-1\" class=\"sk-top-container\"><div class=\"sk-text-repr-fallback\"><pre>KNeighborsClassifier(n_neighbors=3)</pre><b>In a Jupyter environment, please rerun this cell to show the HTML representation or trust the notebook. <br />On GitHub, the HTML representation is unable to render, please try loading this page with nbviewer.org.</b></div><div class=\"sk-container\" hidden><div class=\"sk-item\"><div class=\"sk-estimator sk-toggleable\"><input class=\"sk-toggleable__control sk-hidden--visually\" id=\"sk-estimator-id-1\" type=\"checkbox\" checked><label for=\"sk-estimator-id-1\" class=\"sk-toggleable__label sk-toggleable__label-arrow\">KNeighborsClassifier</label><div class=\"sk-toggleable__content\"><pre>KNeighborsClassifier(n_neighbors=3)</pre></div></div></div></div></div>"
      ],
      "text/plain": [
       "KNeighborsClassifier(n_neighbors=3)"
      ]
     },
     "execution_count": 36,
     "metadata": {},
     "output_type": "execute_result"
    }
   ],
   "source": [
    "#Fitting K-NN to the Training set\n",
    "classifier = KNeighborsClassifier(n_neighbors = 3, metric = \"minkowski\", p = 2)\n",
    "classifier.fit(x_train, y_train)"
   ]
  },
  {
   "cell_type": "code",
   "execution_count": 37,
   "id": "b6747f83",
   "metadata": {},
   "outputs": [],
   "source": [
    "#Predicting the Test set result\n",
    "prediction2 = classifier.predict(x_test)"
   ]
  },
  {
   "cell_type": "code",
   "execution_count": 38,
   "id": "5b29cd9e",
   "metadata": {},
   "outputs": [
    {
     "data": {
      "text/plain": [
       "array([1, 1, 1, 1, 1, 1, 1, 1, 1, 1, 1, 1, 1, 1, 1, 1, 1, 1, 2, 1, 1, 1,\n",
       "       1, 1, 2, 2, 1, 1, 1, 1, 1, 1, 1, 1, 1, 1, 1, 1, 1, 1, 1, 1, 1, 1,\n",
       "       1, 1, 1, 1, 1, 1, 1, 1, 1, 1, 1, 1, 1, 1, 1, 1, 1, 1, 1, 1, 1, 1,\n",
       "       1, 1, 1, 1, 1, 1, 1, 1, 2, 1, 1, 1, 1, 1, 1, 1, 1, 2, 1, 1, 1, 1,\n",
       "       1, 1, 1, 1, 1, 1, 1, 1, 1, 1, 1, 1, 1, 1, 1], dtype=int64)"
      ]
     },
     "execution_count": 38,
     "metadata": {},
     "output_type": "execute_result"
    }
   ],
   "source": [
    "prediction2"
   ]
  },
  {
   "cell_type": "code",
   "execution_count": 39,
   "id": "e0338e9e",
   "metadata": {},
   "outputs": [
    {
     "data": {
      "text/plain": [
       "array([[86,  1],\n",
       "       [12,  4]], dtype=int64)"
      ]
     },
     "execution_count": 39,
     "metadata": {},
     "output_type": "execute_result"
    }
   ],
   "source": [
    "from sklearn.metrics import confusion_matrix\n",
    "from sklearn.metrics import accuracy_score\n",
    "confusion_matrix(y_test,prediction2)"
   ]
  },
  {
   "cell_type": "code",
   "execution_count": 87,
   "id": "240a8f74",
   "metadata": {},
   "outputs": [
    {
     "name": "stdout",
     "output_type": "stream",
     "text": [
      "Accuracy: 0.8737864077669902\n",
      "Precision: 0.8775510204081632\n",
      "Recall: 0.9885057471264368\n",
      "F1 score: 0.9297297297297297\n"
     ]
    }
   ],
   "source": [
    "from sklearn.metrics import precision_score, recall_score, f1_score\n",
    "\n",
    "# assuming your predicted and actual labels are stored in variables y_pred and y_true, respectively\n",
    "accuracy = accuracy_score(y_test, prediction2)\n",
    "precision = precision_score(y_test, prediction2)\n",
    "recall = recall_score(y_test, prediction2)\n",
    "f1 = f1_score(y_test, prediction2)\n",
    "\n",
    "print(\"Accuracy:\", accuracy)\n",
    "print(\"Precision:\", precision)\n",
    "print(\"Recall:\", recall)\n",
    "print(\"F1 score:\", f1)"
   ]
  },
  {
   "cell_type": "code",
   "execution_count": 40,
   "id": "52397e3f",
   "metadata": {},
   "outputs": [
    {
     "data": {
      "text/plain": [
       "0.8737864077669902"
      ]
     },
     "execution_count": 40,
     "metadata": {},
     "output_type": "execute_result"
    }
   ],
   "source": [
    "accuracy_score(y_test,prediction2)"
   ]
  },
  {
   "cell_type": "code",
   "execution_count": 41,
   "id": "250b49e8",
   "metadata": {},
   "outputs": [
    {
     "data": {
      "text/plain": [
       "array([0.87755102, 0.8       ])"
      ]
     },
     "execution_count": 41,
     "metadata": {},
     "output_type": "execute_result"
    }
   ],
   "source": [
    "probs = Model1.predict_proba(x_test)\n",
    "precision_score(y_test, prediction2, average = None)"
   ]
  },
  {
   "cell_type": "code",
   "execution_count": 42,
   "id": "51acb9ae",
   "metadata": {},
   "outputs": [
    {
     "data": {
      "text/plain": [
       "array([0.98850575, 0.25      ])"
      ]
     },
     "execution_count": 42,
     "metadata": {},
     "output_type": "execute_result"
    }
   ],
   "source": [
    "recall_score(y_test, prediction2, average = None)"
   ]
  },
  {
   "cell_type": "code",
   "execution_count": 43,
   "id": "c1e05028",
   "metadata": {},
   "outputs": [
    {
     "data": {
      "text/plain": [
       "array([0.92972973, 0.38095238])"
      ]
     },
     "execution_count": 43,
     "metadata": {},
     "output_type": "execute_result"
    }
   ],
   "source": [
    "f1_score(y_test, prediction2, average = None)"
   ]
  },
  {
   "cell_type": "code",
   "execution_count": 44,
   "id": "dcce3018",
   "metadata": {},
   "outputs": [
    {
     "data": {
      "image/png": "[encoded data removed]",
      "text/plain": [
       "<Figure size 640x480 with 2 Axes>"
      ]
     },
     "metadata": {},
     "output_type": "display_data"
    }
   ],
   "source": [
    "cm = confusion_matrix(y_true = y_test, y_pred = prediction2)\n",
    "#plot_confusion_matrix(cm,level,title = \"confusion_matrix\")\n",
    "sns.heatmap(cm, annot=True, cmap=\"Blues\", fmt=\"d\")\n",
    "plt.xlabel(\"Predicted Labels\")\n",
    "plt.ylabel(\"True Labels\")\n",
    "plt.title(\"Confusion Matrix\")\n",
    "plt.show()"
   ]
  },
  {
   "cell_type": "markdown",
   "id": "b6627e1a",
   "metadata": {},
   "source": [
    "Decision Tree"
   ]
  },
  {
   "cell_type": "code",
   "execution_count": 45,
   "id": "4ee2f7bb",
   "metadata": {},
   "outputs": [],
   "source": [
    "#Decision Tree \n",
    "from sklearn.tree import DecisionTreeClassifier\n",
    "tree = DecisionTreeClassifier(random_state = 0,criterion = \"entropy\")\n",
    "tree.fit(x_train, y_train)\n",
    "prediction3 = classifier.predict(x_test)"
   ]
  },
  {
   "cell_type": "code",
   "execution_count": 46,
   "id": "4d144687",
   "metadata": {},
   "outputs": [
    {
     "data": {
      "text/plain": [
       "array([1, 1, 1, 1, 1, 1, 1, 1, 1, 1, 1, 1, 1, 1, 1, 1, 1, 1, 2, 1, 1, 1,\n",
       "       1, 1, 2, 2, 1, 1, 1, 1, 1, 1, 1, 1, 1, 1, 1, 1, 1, 1, 1, 1, 1, 1,\n",
       "       1, 1, 1, 1, 1, 1, 1, 1, 1, 1, 1, 1, 1, 1, 1, 1, 1, 1, 1, 1, 1, 1,\n",
       "       1, 1, 1, 1, 1, 1, 1, 1, 2, 1, 1, 1, 1, 1, 1, 1, 1, 2, 1, 1, 1, 1,\n",
       "       1, 1, 1, 1, 1, 1, 1, 1, 1, 1, 1, 1, 1, 1, 1], dtype=int64)"
      ]
     },
     "execution_count": 46,
     "metadata": {},
     "output_type": "execute_result"
    }
   ],
   "source": [
    "prediction3"
   ]
  },
  {
   "cell_type": "code",
   "execution_count": 47,
   "id": "1eb70491",
   "metadata": {},
   "outputs": [
    {
     "data": {
      "text/plain": [
       "array([[86,  1],\n",
       "       [12,  4]], dtype=int64)"
      ]
     },
     "execution_count": 47,
     "metadata": {},
     "output_type": "execute_result"
    }
   ],
   "source": [
    "confusion_matrix(y_test,prediction3)"
   ]
  },
  {
   "cell_type": "code",
   "execution_count": 86,
   "id": "113e06b6",
   "metadata": {},
   "outputs": [
    {
     "name": "stdout",
     "output_type": "stream",
     "text": [
      "Accuracy: 0.8737864077669902\n",
      "Precision: 0.8775510204081632\n",
      "Recall: 0.9885057471264368\n",
      "F1 score: 0.9297297297297297\n"
     ]
    }
   ],
   "source": [
    "from sklearn.metrics import precision_score, recall_score, f1_score\n",
    "\n",
    "# assuming your predicted and actual labels are stored in variables y_pred and y_true, respectively\n",
    "accuracy = accuracy_score(y_test, prediction3)\n",
    "precision = precision_score(y_test, prediction3)\n",
    "recall = recall_score(y_test, prediction3)\n",
    "f1 = f1_score(y_test, prediction3)\n",
    "\n",
    "print(\"Accuracy:\", accuracy)\n",
    "print(\"Precision:\", precision)\n",
    "print(\"Recall:\", recall)\n",
    "print(\"F1 score:\", f1)"
   ]
  },
  {
   "cell_type": "code",
   "execution_count": 48,
   "id": "1ee956ae",
   "metadata": {},
   "outputs": [
    {
     "data": {
      "text/plain": [
       "0.8737864077669902"
      ]
     },
     "execution_count": 48,
     "metadata": {},
     "output_type": "execute_result"
    }
   ],
   "source": [
    "accuracy_score(y_test,prediction3)"
   ]
  },
  {
   "cell_type": "code",
   "execution_count": 49,
   "id": "1c0481b6",
   "metadata": {},
   "outputs": [
    {
     "data": {
      "text/plain": [
       "array([0.87755102, 0.8       ])"
      ]
     },
     "execution_count": 49,
     "metadata": {},
     "output_type": "execute_result"
    }
   ],
   "source": [
    "probs = Model1.predict_proba(x_test)\n",
    "precision_score(y_test, prediction3, average = None)"
   ]
  },
  {
   "cell_type": "code",
   "execution_count": 50,
   "id": "1b4ad4eb",
   "metadata": {},
   "outputs": [
    {
     "data": {
      "text/plain": [
       "array([0.98850575, 0.25      ])"
      ]
     },
     "execution_count": 50,
     "metadata": {},
     "output_type": "execute_result"
    }
   ],
   "source": [
    "recall_score(y_test, prediction3, average = None)"
   ]
  },
  {
   "cell_type": "code",
   "execution_count": 51,
   "id": "0ef6eb27",
   "metadata": {},
   "outputs": [
    {
     "data": {
      "text/plain": [
       "array([0.92972973, 0.38095238])"
      ]
     },
     "execution_count": 51,
     "metadata": {},
     "output_type": "execute_result"
    }
   ],
   "source": [
    "f1_score(y_test, prediction3, average = None)"
   ]
  },
  {
   "cell_type": "code",
   "execution_count": 52,
   "id": "55503779",
   "metadata": {},
   "outputs": [
    {
     "data": {
      "image/png": "[encoded data removed]",
      "text/plain": [
       "<Figure size 640x480 with 2 Axes>"
      ]
     },
     "metadata": {},
     "output_type": "display_data"
    }
   ],
   "source": [
    "cm = confusion_matrix(y_true = y_test, y_pred = prediction3)\n",
    "#plot_confusion_matrix(cm,level,title = \"confusion_matrix\")\n",
    "sns.heatmap(cm, annot=True, cmap=\"Blues\", fmt=\"d\")\n",
    "plt.xlabel(\"Predicted Labels\")\n",
    "plt.ylabel(\"True Labels\")\n",
    "plt.title(\"Confusion Matrix\")\n",
    "plt.show()"
   ]
  },
  {
   "cell_type": "markdown",
   "id": "c8e52430",
   "metadata": {},
   "source": [
    "SVM"
   ]
  },
  {
   "cell_type": "code",
   "execution_count": 53,
   "id": "5494adba",
   "metadata": {},
   "outputs": [],
   "source": [
    "#Support Vector Machine\n",
    "from sklearn.ensemble import BaggingClassifier\n",
    "from sklearn.multiclass import OneVsRestClassifier\n",
    "from sklearn.svm import SVC\n",
    "svm = OneVsRestClassifier(BaggingClassifier(SVC(C=10,kernel='rbf',random_state=9,probability=True),n_jobs=-1))\n",
    "svm.fit(x_train, y_train)\n",
    "prediction4 = svm.predict(x_test)"
   ]
  },
  {
   "cell_type": "code",
   "execution_count": 54,
   "id": "ca742075",
   "metadata": {
    "scrolled": true
   },
   "outputs": [
    {
     "data": {
      "text/plain": [
       "array([[87,  0],\n",
       "       [16,  0]], dtype=int64)"
      ]
     },
     "execution_count": 54,
     "metadata": {},
     "output_type": "execute_result"
    }
   ],
   "source": [
    "confusion_matrix(y_test,prediction4)"
   ]
  },
  {
   "cell_type": "code",
   "execution_count": 85,
   "id": "788c9771",
   "metadata": {},
   "outputs": [
    {
     "name": "stdout",
     "output_type": "stream",
     "text": [
      "Accuracy: 0.8446601941747572\n",
      "Precision: 0.8446601941747572\n",
      "Recall: 1.0\n",
      "F1 score: 0.9157894736842105\n"
     ]
    }
   ],
   "source": [
    "from sklearn.metrics import precision_score, recall_score, f1_score\n",
    "\n",
    "# assuming your predicted and actual labels are stored in variables y_pred and y_true, respectively\n",
    "accuracy = accuracy_score(y_test, prediction4)\n",
    "precision = precision_score(y_test, prediction4)\n",
    "recall = recall_score(y_test, prediction4)\n",
    "f1 = f1_score(y_test, prediction4)\n",
    "\n",
    "print(\"Accuracy:\", accuracy)\n",
    "print(\"Precision:\", precision)\n",
    "print(\"Recall:\", recall)\n",
    "print(\"F1 score:\", f1)"
   ]
  },
  {
   "cell_type": "code",
   "execution_count": 55,
   "id": "56fb954d",
   "metadata": {},
   "outputs": [
    {
     "data": {
      "text/plain": [
       "0.8446601941747572"
      ]
     },
     "execution_count": 55,
     "metadata": {},
     "output_type": "execute_result"
    }
   ],
   "source": [
    "accuracy_score(y_test,prediction4)"
   ]
  },
  {
   "cell_type": "code",
   "execution_count": 56,
   "id": "553761fd",
   "metadata": {},
   "outputs": [
    {
     "name": "stderr",
     "output_type": "stream",
     "text": [
      "C:\\ProgramData\\Anaconda3\\lib\\site-packages\\sklearn\\metrics\\_classification.py:1344: UndefinedMetricWarning: Precision is ill-defined and being set to 0.0 in labels with no predicted samples. Use `zero_division` parameter to control this behavior.\n",
      "  _warn_prf(average, modifier, msg_start, len(result))\n"
     ]
    },
    {
     "data": {
      "text/plain": [
       "array([0.84466019, 0.        ])"
      ]
     },
     "execution_count": 56,
     "metadata": {},
     "output_type": "execute_result"
    }
   ],
   "source": [
    "probs = Model1.predict_proba(x_test)\n",
    "precision_score(y_test, prediction4, average = None)"
   ]
  },
  {
   "cell_type": "code",
   "execution_count": 57,
   "id": "6baec25b",
   "metadata": {},
   "outputs": [
    {
     "data": {
      "text/plain": [
       "array([1., 0.])"
      ]
     },
     "execution_count": 57,
     "metadata": {},
     "output_type": "execute_result"
    }
   ],
   "source": [
    "recall_score(y_test, prediction4, average = None)"
   ]
  },
  {
   "cell_type": "code",
   "execution_count": 58,
   "id": "aab6a107",
   "metadata": {},
   "outputs": [
    {
     "data": {
      "text/plain": [
       "array([0.91578947, 0.        ])"
      ]
     },
     "execution_count": 58,
     "metadata": {},
     "output_type": "execute_result"
    }
   ],
   "source": [
    "f1_score(y_test, prediction4, average = None)"
   ]
  },
  {
   "cell_type": "code",
   "execution_count": 59,
   "id": "a7698178",
   "metadata": {},
   "outputs": [
    {
     "data": {
      "image/png": "[encoded data removed]",
      "text/plain": [
       "<Figure size 640x480 with 2 Axes>"
      ]
     },
     "metadata": {},
     "output_type": "display_data"
    }
   ],
   "source": [
    "cm = confusion_matrix(y_true = y_test, y_pred = prediction4)\n",
    "#plot_confusion_matrix(cm,level,title = \"confusion_matrix\")\n",
    "sns.heatmap(cm, annot=True, cmap=\"Blues\", fmt=\"d\")\n",
    "plt.xlabel(\"Predicted Labels\")\n",
    "plt.ylabel(\"True Labels\")\n",
    "plt.title(\"Confusion Matrix\")\n",
    "plt.show()"
   ]
  },
  {
   "cell_type": "markdown",
   "id": "bb1656a9",
   "metadata": {},
   "source": [
    "Naive Bayes"
   ]
  },
  {
   "cell_type": "code",
   "execution_count": 60,
   "id": "3063bc8c",
   "metadata": {},
   "outputs": [
    {
     "name": "stderr",
     "output_type": "stream",
     "text": [
      "C:\\ProgramData\\Anaconda3\\lib\\site-packages\\sklearn\\utils\\validation.py:1143: DataConversionWarning: A column-vector y was passed when a 1d array was expected. Please change the shape of y to (n_samples, ), for example using ravel().\n",
      "  y = column_or_1d(y, warn=True)\n"
     ]
    }
   ],
   "source": [
    "from sklearn.naive_bayes import GaussianNB\n",
    "nbcla = GaussianNB()\n",
    "nbcla.fit(x_train, y_train)\n",
    "prediction5 = nbcla.predict(x_test)"
   ]
  },
  {
   "cell_type": "code",
   "execution_count": 61,
   "id": "02e2e56b",
   "metadata": {},
   "outputs": [
    {
     "data": {
      "text/plain": [
       "array([[81,  6],\n",
       "       [ 8,  8]], dtype=int64)"
      ]
     },
     "execution_count": 61,
     "metadata": {},
     "output_type": "execute_result"
    }
   ],
   "source": [
    "from sklearn.metrics import confusion_matrix\n",
    "from sklearn.metrics import accuracy_score\n",
    "confusion_matrix(y_test,prediction5)"
   ]
  },
  {
   "cell_type": "code",
   "execution_count": 83,
   "id": "7379ab57",
   "metadata": {},
   "outputs": [
    {
     "name": "stdout",
     "output_type": "stream",
     "text": [
      "Accuracy: 0.8640776699029126\n",
      "Precision: 0.9101123595505618\n",
      "Recall: 0.9310344827586207\n",
      "F1 score: 0.9204545454545454\n"
     ]
    }
   ],
   "source": [
    "from sklearn.metrics import precision_score, recall_score, f1_score\n",
    "\n",
    "# assuming your predicted and actual labels are stored in variables y_pred and y_true, respectively\n",
    "accuracy = accuracy_score(y_test, prediction5)\n",
    "precision = precision_score(y_test, prediction5)\n",
    "recall = recall_score(y_test, prediction5)\n",
    "f1 = f1_score(y_test, prediction5)\n",
    "\n",
    "print(\"Accuracy:\", accuracy)\n",
    "print(\"Precision:\", precision)\n",
    "print(\"Recall:\", recall)\n",
    "print(\"F1 score:\", f1)"
   ]
  },
  {
   "cell_type": "code",
   "execution_count": 62,
   "id": "4601e7d3",
   "metadata": {},
   "outputs": [
    {
     "data": {
      "text/plain": [
       "0.8640776699029126"
      ]
     },
     "execution_count": 62,
     "metadata": {},
     "output_type": "execute_result"
    }
   ],
   "source": [
    "accuracy_score(y_test,prediction5)"
   ]
  },
  {
   "cell_type": "code",
   "execution_count": 63,
   "id": "534adff0",
   "metadata": {},
   "outputs": [
    {
     "data": {
      "text/plain": [
       "array([0.91011236, 0.57142857])"
      ]
     },
     "execution_count": 63,
     "metadata": {},
     "output_type": "execute_result"
    }
   ],
   "source": [
    "probs = Model1.predict_proba(x_test)\n",
    "precision_score(y_test, prediction5, average = None)"
   ]
  },
  {
   "cell_type": "code",
   "execution_count": 64,
   "id": "ef970ecc",
   "metadata": {},
   "outputs": [
    {
     "data": {
      "text/plain": [
       "array([0.93103448, 0.5       ])"
      ]
     },
     "execution_count": 64,
     "metadata": {},
     "output_type": "execute_result"
    }
   ],
   "source": [
    "recall_score(y_test, prediction5, average = None)"
   ]
  },
  {
   "cell_type": "code",
   "execution_count": 65,
   "id": "ae742763",
   "metadata": {},
   "outputs": [
    {
     "data": {
      "text/plain": [
       "array([0.92045455, 0.53333333])"
      ]
     },
     "execution_count": 65,
     "metadata": {},
     "output_type": "execute_result"
    }
   ],
   "source": [
    "f1_score(y_test, prediction5, average = None)"
   ]
  },
  {
   "cell_type": "code",
   "execution_count": 66,
   "id": "6324e83d",
   "metadata": {},
   "outputs": [
    {
     "data": {
      "image/png": "[encoded data removed]",
      "text/plain": [
       "<Figure size 640x480 with 2 Axes>"
      ]
     },
     "metadata": {},
     "output_type": "display_data"
    }
   ],
   "source": [
    "cm = confusion_matrix(y_true = y_test, y_pred = prediction5)\n",
    "#plot_confusion_matrix(cm,level,title = \"confusion_matrix\")\n",
    "sns.heatmap(cm, annot=True, cmap=\"Blues\", fmt=\"d\")\n",
    "plt.xlabel(\"Predicted Labels\")\n",
    "plt.ylabel(\"True Labels\")\n",
    "plt.title(\"Confusion Matrix\")\n",
    "plt.show()"
   ]
  },
  {
   "cell_type": "markdown",
   "id": "ae6e18fd",
   "metadata": {},
   "source": [
    "RANDOM FOREST"
   ]
  },
  {
   "cell_type": "code",
   "execution_count": 67,
   "id": "c33d6921",
   "metadata": {},
   "outputs": [
    {
     "name": "stderr",
     "output_type": "stream",
     "text": [
      "C:\\Users\\User\\AppData\\Local\\Temp\\ipykernel_9784\\4118252254.py:7: DataConversionWarning: A column-vector y was passed when a 1d array was expected. Please change the shape of y to (n_samples,), for example using ravel().\n",
      "  rf_classifier.fit(x_train, y_train)\n"
     ]
    }
   ],
   "source": [
    "from sklearn.ensemble import RandomForestClassifier\n",
    "\n",
    "# Initialize the classifier\n",
    "rf_classifier = RandomForestClassifier(n_estimators=100, random_state=42)\n",
    "\n",
    "# Train the model using training dataset\n",
    "rf_classifier.fit(x_train, y_train)\n",
    "\n",
    "# Make predictions on test dataset\n",
    "prediction6 = rf_classifier.predict(x_test)\n",
    "\n",
    "# Evaluate the accuracy of the model\n",
    "#accuracy = rf_classifier.score(x_test, y_test)\n",
    "#print(\"Accuracy:\", accuracy)"
   ]
  },
  {
   "cell_type": "code",
   "execution_count": 68,
   "id": "20710a32",
   "metadata": {},
   "outputs": [
    {
     "data": {
      "text/plain": [
       "array([[85,  2],\n",
       "       [ 9,  7]], dtype=int64)"
      ]
     },
     "execution_count": 68,
     "metadata": {},
     "output_type": "execute_result"
    }
   ],
   "source": [
    "confusion_matrix(y_test,prediction6)"
   ]
  },
  {
   "cell_type": "code",
   "execution_count": 84,
   "id": "b4a1091e",
   "metadata": {},
   "outputs": [
    {
     "name": "stdout",
     "output_type": "stream",
     "text": [
      "Accuracy: 0.8932038834951457\n",
      "Precision: 0.9042553191489362\n",
      "Recall: 0.9770114942528736\n",
      "F1 score: 0.9392265193370166\n"
     ]
    }
   ],
   "source": [
    "from sklearn.metrics import precision_score, recall_score, f1_score\n",
    "\n",
    "# assuming your predicted and actual labels are stored in variables y_pred and y_true, respectively\n",
    "accuracy = accuracy_score(y_test, prediction6)\n",
    "precision = precision_score(y_test, prediction6)\n",
    "recall = recall_score(y_test, prediction6)\n",
    "f1 = f1_score(y_test, prediction6)\n",
    "\n",
    "print(\"Accuracy:\", accuracy)\n",
    "print(\"Precision:\", precision)\n",
    "print(\"Recall:\", recall)\n",
    "print(\"F1 score:\", f1)"
   ]
  },
  {
   "cell_type": "code",
   "execution_count": 69,
   "id": "a6ee17a4",
   "metadata": {
    "scrolled": true
   },
   "outputs": [
    {
     "data": {
      "text/plain": [
       "0.8932038834951457"
      ]
     },
     "execution_count": 69,
     "metadata": {},
     "output_type": "execute_result"
    }
   ],
   "source": [
    "accuracy_score(y_test,prediction6)"
   ]
  },
  {
   "cell_type": "code",
   "execution_count": 70,
   "id": "a009bbc9",
   "metadata": {},
   "outputs": [
    {
     "data": {
      "text/plain": [
       "array([0.90425532, 0.77777778])"
      ]
     },
     "execution_count": 70,
     "metadata": {},
     "output_type": "execute_result"
    }
   ],
   "source": [
    "probs = Model1.predict_proba(x_test)\n",
    "precision_score(y_test, prediction6, average = None)"
   ]
  },
  {
   "cell_type": "code",
   "execution_count": 71,
   "id": "8a221dbf",
   "metadata": {},
   "outputs": [
    {
     "data": {
      "text/plain": [
       "array([0.97701149, 0.4375    ])"
      ]
     },
     "execution_count": 71,
     "metadata": {},
     "output_type": "execute_result"
    }
   ],
   "source": [
    "recall_score(y_test, prediction6, average = None)"
   ]
  },
  {
   "cell_type": "code",
   "execution_count": 72,
   "id": "91e39486",
   "metadata": {},
   "outputs": [
    {
     "data": {
      "text/plain": [
       "array([0.93922652, 0.56      ])"
      ]
     },
     "execution_count": 72,
     "metadata": {},
     "output_type": "execute_result"
    }
   ],
   "source": [
    "f1_score(y_test, prediction6, average = None)"
   ]
  },
  {
   "cell_type": "code",
   "execution_count": 73,
   "id": "ec409b0a",
   "metadata": {},
   "outputs": [
    {
     "data": {
      "image/png": "[encoded data removed]",
      "text/plain": [
       "<Figure size 640x480 with 2 Axes>"
      ]
     },
     "metadata": {},
     "output_type": "display_data"
    }
   ],
   "source": [
    "cm = confusion_matrix(y_true = y_test, y_pred = prediction6)\n",
    "#plot_confusion_matrix(cm,level,title = \"confusion_matrix\")\n",
    "sns.heatmap(cm, annot=True, cmap=\"Blues\", fmt=\"d\")\n",
    "plt.xlabel(\"Predicted Labels\")\n",
    "plt.ylabel(\"True Labels\")\n",
    "plt.title(\"Confusion Matrix\")\n",
    "plt.show()"
   ]
  },
  {
   "cell_type": "markdown",
   "id": "62bfe22b",
   "metadata": {},
   "source": [
    "========================================================================================================================"
   ]
  },
  {
   "cell_type": "code",
   "execution_count": 74,
   "id": "69577070",
   "metadata": {},
   "outputs": [
    {
     "data": {
      "text/html": [
       "<div>\n",
       "<style scoped>\n",
       "    .dataframe tbody tr th:only-of-type {\n",
       "        vertical-align: middle;\n",
       "    }\n",
       "\n",
       "    .dataframe tbody tr th {\n",
       "        vertical-align: top;\n",
       "    }\n",
       "\n",
       "    .dataframe thead th {\n",
       "        text-align: right;\n",
       "    }\n",
       "</style>\n",
       "<table border=\"1\" class=\"dataframe\">\n",
       "  <thead>\n",
       "    <tr style=\"text-align: right;\">\n",
       "      <th></th>\n",
       "      <th>GENDER</th>\n",
       "      <th>AGE</th>\n",
       "      <th>SMOKING</th>\n",
       "      <th>YELLOW_FINGERS</th>\n",
       "      <th>ANXIETY</th>\n",
       "      <th>PEER_PRESSURE</th>\n",
       "      <th>CHRONIC DISEASE</th>\n",
       "      <th>FATIGUE</th>\n",
       "      <th>ALLERGY</th>\n",
       "      <th>WHEEZING</th>\n",
       "      <th>ALCOHOL CONSUMING</th>\n",
       "      <th>COUGHING</th>\n",
       "      <th>SHORTNESS OF BREATH</th>\n",
       "      <th>SWALLOWING DIFFICULTY</th>\n",
       "      <th>CHEST PAIN</th>\n",
       "      <th>LUNG_CANCER</th>\n",
       "    </tr>\n",
       "  </thead>\n",
       "  <tbody>\n",
       "    <tr>\n",
       "      <th>GENDER</th>\n",
       "      <td>1.000000</td>\n",
       "      <td>-0.021306</td>\n",
       "      <td>-0.036277</td>\n",
       "      <td>0.212959</td>\n",
       "      <td>0.152127</td>\n",
       "      <td>0.275564</td>\n",
       "      <td>0.204606</td>\n",
       "      <td>0.083560</td>\n",
       "      <td>-0.154251</td>\n",
       "      <td>-0.141207</td>\n",
       "      <td>-0.454268</td>\n",
       "      <td>-0.133303</td>\n",
       "      <td>0.064911</td>\n",
       "      <td>0.078161</td>\n",
       "      <td>-0.362958</td>\n",
       "      <td>0.067254</td>\n",
       "    </tr>\n",
       "    <tr>\n",
       "      <th>AGE</th>\n",
       "      <td>-0.021306</td>\n",
       "      <td>1.000000</td>\n",
       "      <td>-0.084475</td>\n",
       "      <td>0.005205</td>\n",
       "      <td>0.053170</td>\n",
       "      <td>0.018685</td>\n",
       "      <td>-0.012642</td>\n",
       "      <td>0.012614</td>\n",
       "      <td>0.027990</td>\n",
       "      <td>0.055011</td>\n",
       "      <td>0.058985</td>\n",
       "      <td>0.169950</td>\n",
       "      <td>-0.017513</td>\n",
       "      <td>-0.001270</td>\n",
       "      <td>-0.018104</td>\n",
       "      <td>-0.089465</td>\n",
       "    </tr>\n",
       "    <tr>\n",
       "      <th>SMOKING</th>\n",
       "      <td>-0.036277</td>\n",
       "      <td>-0.084475</td>\n",
       "      <td>1.000000</td>\n",
       "      <td>-0.014585</td>\n",
       "      <td>0.160267</td>\n",
       "      <td>-0.042822</td>\n",
       "      <td>-0.141522</td>\n",
       "      <td>-0.029575</td>\n",
       "      <td>0.001913</td>\n",
       "      <td>-0.129426</td>\n",
       "      <td>-0.050623</td>\n",
       "      <td>-0.129471</td>\n",
       "      <td>0.061264</td>\n",
       "      <td>0.030718</td>\n",
       "      <td>0.120117</td>\n",
       "      <td>-0.058179</td>\n",
       "    </tr>\n",
       "    <tr>\n",
       "      <th>YELLOW_FINGERS</th>\n",
       "      <td>0.212959</td>\n",
       "      <td>0.005205</td>\n",
       "      <td>-0.014585</td>\n",
       "      <td>1.000000</td>\n",
       "      <td>0.565829</td>\n",
       "      <td>0.323083</td>\n",
       "      <td>0.041122</td>\n",
       "      <td>-0.118058</td>\n",
       "      <td>-0.144300</td>\n",
       "      <td>-0.078515</td>\n",
       "      <td>-0.289025</td>\n",
       "      <td>-0.012640</td>\n",
       "      <td>-0.105944</td>\n",
       "      <td>0.345904</td>\n",
       "      <td>-0.104829</td>\n",
       "      <td>-0.181339</td>\n",
       "    </tr>\n",
       "    <tr>\n",
       "      <th>ANXIETY</th>\n",
       "      <td>0.152127</td>\n",
       "      <td>0.053170</td>\n",
       "      <td>0.160267</td>\n",
       "      <td>0.565829</td>\n",
       "      <td>1.000000</td>\n",
       "      <td>0.216841</td>\n",
       "      <td>-0.009678</td>\n",
       "      <td>-0.188538</td>\n",
       "      <td>-0.165750</td>\n",
       "      <td>-0.191807</td>\n",
       "      <td>-0.165750</td>\n",
       "      <td>-0.225644</td>\n",
       "      <td>-0.144077</td>\n",
       "      <td>0.489403</td>\n",
       "      <td>-0.113634</td>\n",
       "      <td>-0.144947</td>\n",
       "    </tr>\n",
       "    <tr>\n",
       "      <th>PEER_PRESSURE</th>\n",
       "      <td>0.275564</td>\n",
       "      <td>0.018685</td>\n",
       "      <td>-0.042822</td>\n",
       "      <td>0.323083</td>\n",
       "      <td>0.216841</td>\n",
       "      <td>1.000000</td>\n",
       "      <td>0.048515</td>\n",
       "      <td>0.078148</td>\n",
       "      <td>-0.081800</td>\n",
       "      <td>-0.068771</td>\n",
       "      <td>-0.159973</td>\n",
       "      <td>-0.089019</td>\n",
       "      <td>-0.220175</td>\n",
       "      <td>0.366590</td>\n",
       "      <td>-0.094828</td>\n",
       "      <td>-0.186388</td>\n",
       "    </tr>\n",
       "    <tr>\n",
       "      <th>CHRONIC DISEASE</th>\n",
       "      <td>0.204606</td>\n",
       "      <td>-0.012642</td>\n",
       "      <td>-0.141522</td>\n",
       "      <td>0.041122</td>\n",
       "      <td>-0.009678</td>\n",
       "      <td>0.048515</td>\n",
       "      <td>1.000000</td>\n",
       "      <td>-0.110529</td>\n",
       "      <td>0.106386</td>\n",
       "      <td>-0.049967</td>\n",
       "      <td>0.002150</td>\n",
       "      <td>-0.175287</td>\n",
       "      <td>-0.026459</td>\n",
       "      <td>0.075176</td>\n",
       "      <td>-0.036938</td>\n",
       "      <td>-0.110891</td>\n",
       "    </tr>\n",
       "    <tr>\n",
       "      <th>FATIGUE</th>\n",
       "      <td>0.083560</td>\n",
       "      <td>0.012614</td>\n",
       "      <td>-0.029575</td>\n",
       "      <td>-0.118058</td>\n",
       "      <td>-0.188538</td>\n",
       "      <td>0.078148</td>\n",
       "      <td>-0.110529</td>\n",
       "      <td>1.000000</td>\n",
       "      <td>0.003056</td>\n",
       "      <td>0.141937</td>\n",
       "      <td>-0.191377</td>\n",
       "      <td>0.146856</td>\n",
       "      <td>0.441745</td>\n",
       "      <td>-0.132790</td>\n",
       "      <td>-0.010832</td>\n",
       "      <td>-0.150673</td>\n",
       "    </tr>\n",
       "    <tr>\n",
       "      <th>ALLERGY</th>\n",
       "      <td>-0.154251</td>\n",
       "      <td>0.027990</td>\n",
       "      <td>0.001913</td>\n",
       "      <td>-0.144300</td>\n",
       "      <td>-0.165750</td>\n",
       "      <td>-0.081800</td>\n",
       "      <td>0.106386</td>\n",
       "      <td>0.003056</td>\n",
       "      <td>1.000000</td>\n",
       "      <td>0.173867</td>\n",
       "      <td>0.344339</td>\n",
       "      <td>0.189524</td>\n",
       "      <td>-0.030056</td>\n",
       "      <td>-0.061508</td>\n",
       "      <td>0.239433</td>\n",
       "      <td>-0.327766</td>\n",
       "    </tr>\n",
       "    <tr>\n",
       "      <th>WHEEZING</th>\n",
       "      <td>-0.141207</td>\n",
       "      <td>0.055011</td>\n",
       "      <td>-0.129426</td>\n",
       "      <td>-0.078515</td>\n",
       "      <td>-0.191807</td>\n",
       "      <td>-0.068771</td>\n",
       "      <td>-0.049967</td>\n",
       "      <td>0.141937</td>\n",
       "      <td>0.173867</td>\n",
       "      <td>1.000000</td>\n",
       "      <td>0.265659</td>\n",
       "      <td>0.374265</td>\n",
       "      <td>0.037834</td>\n",
       "      <td>0.069027</td>\n",
       "      <td>0.147640</td>\n",
       "      <td>-0.249300</td>\n",
       "    </tr>\n",
       "    <tr>\n",
       "      <th>ALCOHOL CONSUMING</th>\n",
       "      <td>-0.454268</td>\n",
       "      <td>0.058985</td>\n",
       "      <td>-0.050623</td>\n",
       "      <td>-0.289025</td>\n",
       "      <td>-0.165750</td>\n",
       "      <td>-0.159973</td>\n",
       "      <td>0.002150</td>\n",
       "      <td>-0.191377</td>\n",
       "      <td>0.344339</td>\n",
       "      <td>0.265659</td>\n",
       "      <td>1.000000</td>\n",
       "      <td>0.202720</td>\n",
       "      <td>-0.179416</td>\n",
       "      <td>-0.009294</td>\n",
       "      <td>0.331226</td>\n",
       "      <td>-0.288533</td>\n",
       "    </tr>\n",
       "    <tr>\n",
       "      <th>COUGHING</th>\n",
       "      <td>-0.133303</td>\n",
       "      <td>0.169950</td>\n",
       "      <td>-0.129471</td>\n",
       "      <td>-0.012640</td>\n",
       "      <td>-0.225644</td>\n",
       "      <td>-0.089019</td>\n",
       "      <td>-0.175287</td>\n",
       "      <td>0.146856</td>\n",
       "      <td>0.189524</td>\n",
       "      <td>0.374265</td>\n",
       "      <td>0.202720</td>\n",
       "      <td>1.000000</td>\n",
       "      <td>0.277385</td>\n",
       "      <td>-0.157586</td>\n",
       "      <td>0.083958</td>\n",
       "      <td>-0.248570</td>\n",
       "    </tr>\n",
       "    <tr>\n",
       "      <th>SHORTNESS OF BREATH</th>\n",
       "      <td>0.064911</td>\n",
       "      <td>-0.017513</td>\n",
       "      <td>0.061264</td>\n",
       "      <td>-0.105944</td>\n",
       "      <td>-0.144077</td>\n",
       "      <td>-0.220175</td>\n",
       "      <td>-0.026459</td>\n",
       "      <td>0.441745</td>\n",
       "      <td>-0.030056</td>\n",
       "      <td>0.037834</td>\n",
       "      <td>-0.179416</td>\n",
       "      <td>0.277385</td>\n",
       "      <td>1.000000</td>\n",
       "      <td>-0.161015</td>\n",
       "      <td>0.024256</td>\n",
       "      <td>-0.060738</td>\n",
       "    </tr>\n",
       "    <tr>\n",
       "      <th>SWALLOWING DIFFICULTY</th>\n",
       "      <td>0.078161</td>\n",
       "      <td>-0.001270</td>\n",
       "      <td>0.030718</td>\n",
       "      <td>0.345904</td>\n",
       "      <td>0.489403</td>\n",
       "      <td>0.366590</td>\n",
       "      <td>0.075176</td>\n",
       "      <td>-0.132790</td>\n",
       "      <td>-0.061508</td>\n",
       "      <td>0.069027</td>\n",
       "      <td>-0.009294</td>\n",
       "      <td>-0.157586</td>\n",
       "      <td>-0.161015</td>\n",
       "      <td>1.000000</td>\n",
       "      <td>0.069027</td>\n",
       "      <td>-0.259730</td>\n",
       "    </tr>\n",
       "    <tr>\n",
       "      <th>CHEST PAIN</th>\n",
       "      <td>-0.362958</td>\n",
       "      <td>-0.018104</td>\n",
       "      <td>0.120117</td>\n",
       "      <td>-0.104829</td>\n",
       "      <td>-0.113634</td>\n",
       "      <td>-0.094828</td>\n",
       "      <td>-0.036938</td>\n",
       "      <td>-0.010832</td>\n",
       "      <td>0.239433</td>\n",
       "      <td>0.147640</td>\n",
       "      <td>0.331226</td>\n",
       "      <td>0.083958</td>\n",
       "      <td>0.024256</td>\n",
       "      <td>0.069027</td>\n",
       "      <td>1.000000</td>\n",
       "      <td>-0.190451</td>\n",
       "    </tr>\n",
       "    <tr>\n",
       "      <th>LUNG_CANCER</th>\n",
       "      <td>0.067254</td>\n",
       "      <td>-0.089465</td>\n",
       "      <td>-0.058179</td>\n",
       "      <td>-0.181339</td>\n",
       "      <td>-0.144947</td>\n",
       "      <td>-0.186388</td>\n",
       "      <td>-0.110891</td>\n",
       "      <td>-0.150673</td>\n",
       "      <td>-0.327766</td>\n",
       "      <td>-0.249300</td>\n",
       "      <td>-0.288533</td>\n",
       "      <td>-0.248570</td>\n",
       "      <td>-0.060738</td>\n",
       "      <td>-0.259730</td>\n",
       "      <td>-0.190451</td>\n",
       "      <td>1.000000</td>\n",
       "    </tr>\n",
       "  </tbody>\n",
       "</table>\n",
       "</div>"
      ],
      "text/plain": [
       "                         GENDER       AGE   SMOKING  YELLOW_FINGERS   ANXIETY  \\\n",
       "GENDER                 1.000000 -0.021306 -0.036277        0.212959  0.152127   \n",
       "AGE                   -0.021306  1.000000 -0.084475        0.005205  0.053170   \n",
       "SMOKING               -0.036277 -0.084475  1.000000       -0.014585  0.160267   \n",
       "YELLOW_FINGERS         0.212959  0.005205 -0.014585        1.000000  0.565829   \n",
       "ANXIETY                0.152127  0.053170  0.160267        0.565829  1.000000   \n",
       "PEER_PRESSURE          0.275564  0.018685 -0.042822        0.323083  0.216841   \n",
       "CHRONIC DISEASE        0.204606 -0.012642 -0.141522        0.041122 -0.009678   \n",
       "FATIGUE                0.083560  0.012614 -0.029575       -0.118058 -0.188538   \n",
       "ALLERGY               -0.154251  0.027990  0.001913       -0.144300 -0.165750   \n",
       "WHEEZING              -0.141207  0.055011 -0.129426       -0.078515 -0.191807   \n",
       "ALCOHOL CONSUMING     -0.454268  0.058985 -0.050623       -0.289025 -0.165750   \n",
       "COUGHING              -0.133303  0.169950 -0.129471       -0.012640 -0.225644   \n",
       "SHORTNESS OF BREATH    0.064911 -0.017513  0.061264       -0.105944 -0.144077   \n",
       "SWALLOWING DIFFICULTY  0.078161 -0.001270  0.030718        0.345904  0.489403   \n",
       "CHEST PAIN            -0.362958 -0.018104  0.120117       -0.104829 -0.113634   \n",
       "LUNG_CANCER            0.067254 -0.089465 -0.058179       -0.181339 -0.144947   \n",
       "\n",
       "                       PEER_PRESSURE  CHRONIC DISEASE   FATIGUE   ALLERGY  \\\n",
       "GENDER                      0.275564         0.204606  0.083560 -0.154251   \n",
       "AGE                         0.018685        -0.012642  0.012614  0.027990   \n",
       "SMOKING                    -0.042822        -0.141522 -0.029575  0.001913   \n",
       "YELLOW_FINGERS              0.323083         0.041122 -0.118058 -0.144300   \n",
       "ANXIETY                     0.216841        -0.009678 -0.188538 -0.165750   \n",
       "PEER_PRESSURE               1.000000         0.048515  0.078148 -0.081800   \n",
       "CHRONIC DISEASE             0.048515         1.000000 -0.110529  0.106386   \n",
       "FATIGUE                     0.078148        -0.110529  1.000000  0.003056   \n",
       "ALLERGY                    -0.081800         0.106386  0.003056  1.000000   \n",
       "WHEEZING                   -0.068771        -0.049967  0.141937  0.173867   \n",
       "ALCOHOL CONSUMING          -0.159973         0.002150 -0.191377  0.344339   \n",
       "COUGHING                   -0.089019        -0.175287  0.146856  0.189524   \n",
       "SHORTNESS OF BREATH        -0.220175        -0.026459  0.441745 -0.030056   \n",
       "SWALLOWING DIFFICULTY       0.366590         0.075176 -0.132790 -0.061508   \n",
       "CHEST PAIN                 -0.094828        -0.036938 -0.010832  0.239433   \n",
       "LUNG_CANCER                -0.186388        -0.110891 -0.150673 -0.327766   \n",
       "\n",
       "                       WHEEZING  ALCOHOL CONSUMING  COUGHING  \\\n",
       "GENDER                -0.141207          -0.454268 -0.133303   \n",
       "AGE                    0.055011           0.058985  0.169950   \n",
       "SMOKING               -0.129426          -0.050623 -0.129471   \n",
       "YELLOW_FINGERS        -0.078515          -0.289025 -0.012640   \n",
       "ANXIETY               -0.191807          -0.165750 -0.225644   \n",
       "PEER_PRESSURE         -0.068771          -0.159973 -0.089019   \n",
       "CHRONIC DISEASE       -0.049967           0.002150 -0.175287   \n",
       "FATIGUE                0.141937          -0.191377  0.146856   \n",
       "ALLERGY                0.173867           0.344339  0.189524   \n",
       "WHEEZING               1.000000           0.265659  0.374265   \n",
       "ALCOHOL CONSUMING      0.265659           1.000000  0.202720   \n",
       "COUGHING               0.374265           0.202720  1.000000   \n",
       "SHORTNESS OF BREATH    0.037834          -0.179416  0.277385   \n",
       "SWALLOWING DIFFICULTY  0.069027          -0.009294 -0.157586   \n",
       "CHEST PAIN             0.147640           0.331226  0.083958   \n",
       "LUNG_CANCER           -0.249300          -0.288533 -0.248570   \n",
       "\n",
       "                       SHORTNESS OF BREATH  SWALLOWING DIFFICULTY  CHEST PAIN  \\\n",
       "GENDER                            0.064911               0.078161   -0.362958   \n",
       "AGE                              -0.017513              -0.001270   -0.018104   \n",
       "SMOKING                           0.061264               0.030718    0.120117   \n",
       "YELLOW_FINGERS                   -0.105944               0.345904   -0.104829   \n",
       "ANXIETY                          -0.144077               0.489403   -0.113634   \n",
       "PEER_PRESSURE                    -0.220175               0.366590   -0.094828   \n",
       "CHRONIC DISEASE                  -0.026459               0.075176   -0.036938   \n",
       "FATIGUE                           0.441745              -0.132790   -0.010832   \n",
       "ALLERGY                          -0.030056              -0.061508    0.239433   \n",
       "WHEEZING                          0.037834               0.069027    0.147640   \n",
       "ALCOHOL CONSUMING                -0.179416              -0.009294    0.331226   \n",
       "COUGHING                          0.277385              -0.157586    0.083958   \n",
       "SHORTNESS OF BREATH               1.000000              -0.161015    0.024256   \n",
       "SWALLOWING DIFFICULTY            -0.161015               1.000000    0.069027   \n",
       "CHEST PAIN                        0.024256               0.069027    1.000000   \n",
       "LUNG_CANCER                      -0.060738              -0.259730   -0.190451   \n",
       "\n",
       "                       LUNG_CANCER  \n",
       "GENDER                    0.067254  \n",
       "AGE                      -0.089465  \n",
       "SMOKING                  -0.058179  \n",
       "YELLOW_FINGERS           -0.181339  \n",
       "ANXIETY                  -0.144947  \n",
       "PEER_PRESSURE            -0.186388  \n",
       "CHRONIC DISEASE          -0.110891  \n",
       "FATIGUE                  -0.150673  \n",
       "ALLERGY                  -0.327766  \n",
       "WHEEZING                 -0.249300  \n",
       "ALCOHOL CONSUMING        -0.288533  \n",
       "COUGHING                 -0.248570  \n",
       "SHORTNESS OF BREATH      -0.060738  \n",
       "SWALLOWING DIFFICULTY    -0.259730  \n",
       "CHEST PAIN               -0.190451  \n",
       "LUNG_CANCER               1.000000  "
      ]
     },
     "execution_count": 74,
     "metadata": {},
     "output_type": "execute_result"
    }
   ],
   "source": [
    "#Finding Correlation\n",
    "cn=lung_data.corr()\n",
    "cn"
   ]
  },
  {
   "cell_type": "code",
   "execution_count": 75,
   "id": "8a5293e5",
   "metadata": {},
   "outputs": [
    {
     "data": {
      "image/png": "[encoded data removed]",
      "text/plain": [
       "<Figure size 1800x1800 with 2 Axes>"
      ]
     },
     "metadata": {},
     "output_type": "display_data"
    }
   ],
   "source": [
    "#Correlation \n",
    "cmap=sns.diverging_palette(260,-10,s=50, l=75, n=6,\n",
    "as_cmap=True)\n",
    "plt.subplots(figsize=(18,18))\n",
    "sns.heatmap(cn,cmap=\"Blues\",annot=True, square=True)\n",
    "plt.show()"
   ]
  },
  {
   "cell_type": "code",
   "execution_count": 76,
   "id": "766a0bca",
   "metadata": {},
   "outputs": [
    {
     "data": {
      "image/png": "[encoded data removed]",
      "text/plain": [
       "<Figure size 1000x3000 with 16 Axes>"
      ]
     },
     "metadata": {},
     "output_type": "display_data"
    }
   ],
   "source": [
    "num_list = list(lung_data.columns)\n",
    "\n",
    "fig = plt.figure(figsize=(10,30))\n",
    "\n",
    "for i in range(len(num_list)):\n",
    "    plt.subplot(8,2,i+1)\n",
    "    plt.title(num_list[i])\n",
    "    plt.xticks(rotation=45)\n",
    "    plt.hist(lung_data[num_list[i]],color='blue',alpha=0.5)\n",
    "\n",
    "plt.tight_layout()"
   ]
  },
  {
   "cell_type": "code",
   "execution_count": null,
   "id": "66d802aa",
   "metadata": {},
   "outputs": [],
   "source": []
  }
 ],
 "metadata": {
  "kernelspec": {
   "display_name": "Python 3 (ipykernel)",
   "language": "python",
   "name": "python3"
  },
  "language_info": {
   "codemirror_mode": {
    "name": "ipython",
    "version": 3
   },
   "file_extension": ".py",
   "mimetype": "text/x-python",
   "name": "python",
   "nbconvert_exporter": "python",
   "pygments_lexer": "ipython3",
   "version": "3.9.16"
  }
 },
 "nbformat": 4,
 "nbformat_minor": 5
}
